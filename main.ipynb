{
 "cells": [
  {
   "cell_type": "markdown",
   "metadata": {},
   "source": [
    "# Predikce hudebních žánrů - semestrální projekt \n",
    "\n",
    "Daniel Jírovec, Albert Mírek\n",
    "\n",
    "Tato semestrální práce se zabývá zpracováním datasetu \"Music Genre Prediction\". Dataset byl získán ze stránky Kaggle.com, konkrétně na tomto odkazu: https://www.kaggle.com/datasets/vicsuperman/prediction-of-music-genre\n",
    "\n",
    "Tento Jupyter Notebook se skládá z několika částí:\n",
    "* Popis datasetu a cíl projektu\n",
    "* Předzpracování dat\n",
    "* Vizualizace dat\n",
    "* Tvorba modelů\n",
    "* Fine-tuning metaparametrů\n",
    "* Výsledky"
   ]
  },
  {
   "cell_type": "markdown",
   "metadata": {},
   "source": [
    "## Popis datasetu a cíl projektu\n",
    "\n",
    "Data byla původně shromážděna pomocí Spotify API. Dataset obsahuje informace o jednotlivých hudebních skladbách. Má celkem 18 atributů, z čehož 17 popisuje unikátní vlastnosti každé skladby a poslední atribut, cílový, udává hudební žánr skladby. Cílový atribut může nabývat 10 hodnot (10 žánrů). Dataset má celkem 50 000 instancí, na každou kategorii cílového atributu připadá 5 000 instancí.\n",
    "\n",
    "Cílem tohoto semestrálního projektu je pomocí metod strojového učení a příslušných modelů provést klasifikační úlohu a jednotlivé instance skladeb na základě atributů klasifikovat do příslušného hudebního žánru.\n",
    "\n",
    "### Atributy instancí datasetu\n",
    "\n",
    "* *instance_id*: číslo instance\n",
    "\n",
    "\n",
    "* *artist_name*: jméno umělce\n",
    "\n",
    "\n",
    "* *track_name*: jméno skladby\n",
    "\n",
    "\n",
    "* *popularity*: popularita skladby; čím větší číslo, tím je skladba populárnější\n",
    "\n",
    "\n",
    "* *acousticness*: míra spolehlivosti měřena od 0.0 do 1.0, zda je skladba akustická; 1.0 představuje vysokou konfidenci, že skladba je akustická\n",
    "\n",
    "\n",
    "* *danceability*: popisuje, jak vhodná je skladba pro tanec na základě kombinace hudebních prvků včetně tempa, stability rytmu, taktu a celkové pravidelnosti; při hodnotě 0.0 je píseň nejméně vhodná pro tanec a při hodnotě 1.0 je nejvíce vhodná\n",
    "\n",
    "\n",
    "* *duration_ms*: délka trvání skladby v milisekundách\n",
    "\n",
    "\n",
    "* *energy*: míra energie měřena od 0.0 do 1.0; představuje míru aktivity a intenzity skladby\n",
    "\n",
    "\n",
    "* *instrumentalness*: instrumentálnost říká, v jaké míře skladba neobsahuje vokály, přičemž zvuky jako \"Ooh\" a \"Aah\" jsou v tomto konextu považovány za instrumentální; rap nebo mluvené slovo jsou jednoznačně „vokální“; čím blíže je hodnota instrumentality k 1.0, tím větší je pravděpodobnost, že skladba neobsahuje žádný vokální obsah - hodnoty nad 0.5 mají představovat instrumentální skladby, ale spolehlivost je vyšší, když se hodnota blíží 1.0\n",
    "\n",
    "\n",
    "* *key*: tónina, ve které se skladba nachází; celá čísla se mapují na výšky pomocí standardní notace \"Pitch Class\"; např. 0 = C, 1 = C♯/D♭, 2 = D a tak dále; pokud nebyla detekována žádná tónina, hodnota je -1\n",
    "\n",
    "\n",
    "* *liveness*: detekuje přítomnost publika v nahrávce; vyšší hodnoty atributu představují zvýšenou pravděpodobnost, že nahrávka byla pořízena živě s publikem; hodnota nad 0.8 znamená velkou pravděpodobnost, že je skladba hraná živě\n",
    "\n",
    "* *loudness*: celková hlasitost skladby v decibelech (dB); hodnoty hlasitosti jsou zprůměrovány přes celou délku skladby a jsou užitečné pro porovnání relativní hlasitosti skladeb; hodnoty se obvykle pohybují mezi -50 db a 0 db\n",
    "\n",
    "\n",
    "* *mode*: označuje modalitu (Major = Dur nebo Minor = Moll) skladby - typ stupnice, z níž je odvozen její melodický obsah; major je reprezentován 1 a Minor je 0\n",
    "\n",
    "\n",
    "* *speechiness*: detekuje přítomnost mluveného slova ve stopě; čím více se nahrávka podobá řeči (např. talk show, audiokniha, podcast), tím se hodnota atributu blíží hodnotě 1.0; hodnoty nad 0.66 popisují stopy, které jsou pravděpodobně celé tvořeny mluveným slovem; hodnoty mezi 0.33 a 0.66 popisují stopy, které mohou obsahovat hudbu i řeč, buď v sekcích, nebo ve vrstvách, včetně případů, jako je rapová hudba; hodnoty pod 0.33 s největší pravděpodobností představují hudbu a další skladby, které neobsahují řeč\n",
    "\n",
    "\n",
    "* *tempo*: celkové odhadované tempo skladby v úderech za minutu (BPM); v hudební terminologii je tempo rychlost dané skladby a odvozuje se přímo od průměrné doby trvání taktu\n",
    "\n",
    "\n",
    "* *time_signature* (původně **obtained_date -> v datasetu je uveden název atributu obtained_date, ale hodnoty, což jsou datumy ze začátku dubna (1/4, 3/4 atd.), nedávájí smysl; po našem průzkumu bylo zjištěno, že sloupec měl špatný datový typ a ve sktečnosti se jedná o atribut time_signature -> vysvětlení v popisu atributu dále)**: odhadovaný takt; označení taktu je notační konvence, která určuje, kolik dob je v každém taktu; označení taktu se pohybuje od 1 do 5 označující označení taktu \"1/4\", \"2/4\", \"3/4\", \"4/4\" a \"5/4\"\n",
    "\n",
    "\n",
    "* *valence*: míra od 0.0 do 1.0 popisující hudební pozitivitu v dané skladbě; skladby s vysokou hodonotu zní pozitivněji (např. šťastně, vesele, euforicky), zatímco skladby s nízkou hodnotou znějí negativněji (např. smutně, depresivně, naštvaně)\n",
    "\n",
    "\n",
    "* *music_genre*: hudební žánr skladby; může nabývat 10 hodnot - Electronic, Anime, Jazz, Alternative, Country, Rap, Blues, Rock, Classical a Hip-Hop "
   ]
  },
  {
   "cell_type": "markdown",
   "metadata": {},
   "source": [
    "## Předzpracování dat"
   ]
  },
  {
   "cell_type": "code",
   "execution_count": 456,
   "metadata": {},
   "outputs": [],
   "source": [
    "#imports of required packages\n",
    "import pandas as pd\n",
    "import numpy as np\n",
    "import seaborn as sns\n",
    "import matplotlib.pyplot as plt\n",
    "\n",
    "from sklearn.preprocessing import LabelEncoder\n",
    "from sklearn.model_selection import train_test_split\n",
    "from sklearn.model_selection import GridSearchCV\n",
    "from sklearn.model_selection import RandomizedSearchCV\n",
    "from sklearn.ensemble import RandomForestClassifier\n",
    "from sklearn.neighbors import KNeighborsClassifier\n",
    "from sklearn.naive_bayes import GaussianNB\n",
    "from sklearn.linear_model import LogisticRegression\n",
    "from sklearn.metrics import accuracy_score, confusion_matrix, classification_report"
   ]
  },
  {
   "cell_type": "code",
   "execution_count": 457,
   "metadata": {},
   "outputs": [],
   "source": [
    "#loading of dataset\n",
    "df = pd.read_csv('./dataset/music_genre.csv', sep=',')"
   ]
  },
  {
   "cell_type": "code",
   "execution_count": 458,
   "metadata": {},
   "outputs": [
    {
     "data": {
      "text/html": [
       "<div>\n",
       "<style scoped>\n",
       "    .dataframe tbody tr th:only-of-type {\n",
       "        vertical-align: middle;\n",
       "    }\n",
       "\n",
       "    .dataframe tbody tr th {\n",
       "        vertical-align: top;\n",
       "    }\n",
       "\n",
       "    .dataframe thead th {\n",
       "        text-align: right;\n",
       "    }\n",
       "</style>\n",
       "<table border=\"1\" class=\"dataframe\">\n",
       "  <thead>\n",
       "    <tr style=\"text-align: right;\">\n",
       "      <th></th>\n",
       "      <th>instance_id</th>\n",
       "      <th>artist_name</th>\n",
       "      <th>track_name</th>\n",
       "      <th>popularity</th>\n",
       "      <th>acousticness</th>\n",
       "      <th>danceability</th>\n",
       "      <th>duration_ms</th>\n",
       "      <th>energy</th>\n",
       "      <th>instrumentalness</th>\n",
       "      <th>key</th>\n",
       "      <th>liveness</th>\n",
       "      <th>loudness</th>\n",
       "      <th>mode</th>\n",
       "      <th>speechiness</th>\n",
       "      <th>tempo</th>\n",
       "      <th>obtained_date</th>\n",
       "      <th>valence</th>\n",
       "      <th>music_genre</th>\n",
       "    </tr>\n",
       "  </thead>\n",
       "  <tbody>\n",
       "    <tr>\n",
       "      <th>0</th>\n",
       "      <td>32894.0</td>\n",
       "      <td>Röyksopp</td>\n",
       "      <td>Röyksopp's Night Out</td>\n",
       "      <td>27.0</td>\n",
       "      <td>0.00468</td>\n",
       "      <td>0.652</td>\n",
       "      <td>-1.0</td>\n",
       "      <td>0.941</td>\n",
       "      <td>0.79200</td>\n",
       "      <td>A#</td>\n",
       "      <td>0.115</td>\n",
       "      <td>-5.201</td>\n",
       "      <td>Minor</td>\n",
       "      <td>0.0748</td>\n",
       "      <td>100.889</td>\n",
       "      <td>4-Apr</td>\n",
       "      <td>0.759</td>\n",
       "      <td>Electronic</td>\n",
       "    </tr>\n",
       "    <tr>\n",
       "      <th>1</th>\n",
       "      <td>46652.0</td>\n",
       "      <td>Thievery Corporation</td>\n",
       "      <td>The Shining Path</td>\n",
       "      <td>31.0</td>\n",
       "      <td>0.01270</td>\n",
       "      <td>0.622</td>\n",
       "      <td>218293.0</td>\n",
       "      <td>0.890</td>\n",
       "      <td>0.95000</td>\n",
       "      <td>D</td>\n",
       "      <td>0.124</td>\n",
       "      <td>-7.043</td>\n",
       "      <td>Minor</td>\n",
       "      <td>0.0300</td>\n",
       "      <td>115.00200000000001</td>\n",
       "      <td>4-Apr</td>\n",
       "      <td>0.531</td>\n",
       "      <td>Electronic</td>\n",
       "    </tr>\n",
       "    <tr>\n",
       "      <th>2</th>\n",
       "      <td>30097.0</td>\n",
       "      <td>Dillon Francis</td>\n",
       "      <td>Hurricane</td>\n",
       "      <td>28.0</td>\n",
       "      <td>0.00306</td>\n",
       "      <td>0.620</td>\n",
       "      <td>215613.0</td>\n",
       "      <td>0.755</td>\n",
       "      <td>0.01180</td>\n",
       "      <td>G#</td>\n",
       "      <td>0.534</td>\n",
       "      <td>-4.617</td>\n",
       "      <td>Major</td>\n",
       "      <td>0.0345</td>\n",
       "      <td>127.994</td>\n",
       "      <td>4-Apr</td>\n",
       "      <td>0.333</td>\n",
       "      <td>Electronic</td>\n",
       "    </tr>\n",
       "    <tr>\n",
       "      <th>3</th>\n",
       "      <td>62177.0</td>\n",
       "      <td>Dubloadz</td>\n",
       "      <td>Nitro</td>\n",
       "      <td>34.0</td>\n",
       "      <td>0.02540</td>\n",
       "      <td>0.774</td>\n",
       "      <td>166875.0</td>\n",
       "      <td>0.700</td>\n",
       "      <td>0.00253</td>\n",
       "      <td>C#</td>\n",
       "      <td>0.157</td>\n",
       "      <td>-4.498</td>\n",
       "      <td>Major</td>\n",
       "      <td>0.2390</td>\n",
       "      <td>128.014</td>\n",
       "      <td>4-Apr</td>\n",
       "      <td>0.270</td>\n",
       "      <td>Electronic</td>\n",
       "    </tr>\n",
       "    <tr>\n",
       "      <th>4</th>\n",
       "      <td>24907.0</td>\n",
       "      <td>What So Not</td>\n",
       "      <td>Divide &amp; Conquer</td>\n",
       "      <td>32.0</td>\n",
       "      <td>0.00465</td>\n",
       "      <td>0.638</td>\n",
       "      <td>222369.0</td>\n",
       "      <td>0.587</td>\n",
       "      <td>0.90900</td>\n",
       "      <td>F#</td>\n",
       "      <td>0.157</td>\n",
       "      <td>-6.266</td>\n",
       "      <td>Major</td>\n",
       "      <td>0.0413</td>\n",
       "      <td>145.036</td>\n",
       "      <td>4-Apr</td>\n",
       "      <td>0.323</td>\n",
       "      <td>Electronic</td>\n",
       "    </tr>\n",
       "  </tbody>\n",
       "</table>\n",
       "</div>"
      ],
      "text/plain": [
       "   instance_id           artist_name            track_name  popularity  \\\n",
       "0      32894.0              Röyksopp  Röyksopp's Night Out        27.0   \n",
       "1      46652.0  Thievery Corporation      The Shining Path        31.0   \n",
       "2      30097.0        Dillon Francis             Hurricane        28.0   \n",
       "3      62177.0              Dubloadz                 Nitro        34.0   \n",
       "4      24907.0           What So Not      Divide & Conquer        32.0   \n",
       "\n",
       "   acousticness  danceability  duration_ms  energy  instrumentalness key  \\\n",
       "0       0.00468         0.652         -1.0   0.941           0.79200  A#   \n",
       "1       0.01270         0.622     218293.0   0.890           0.95000   D   \n",
       "2       0.00306         0.620     215613.0   0.755           0.01180  G#   \n",
       "3       0.02540         0.774     166875.0   0.700           0.00253  C#   \n",
       "4       0.00465         0.638     222369.0   0.587           0.90900  F#   \n",
       "\n",
       "   liveness  loudness   mode  speechiness               tempo obtained_date  \\\n",
       "0     0.115    -5.201  Minor       0.0748             100.889         4-Apr   \n",
       "1     0.124    -7.043  Minor       0.0300  115.00200000000001         4-Apr   \n",
       "2     0.534    -4.617  Major       0.0345             127.994         4-Apr   \n",
       "3     0.157    -4.498  Major       0.2390             128.014         4-Apr   \n",
       "4     0.157    -6.266  Major       0.0413             145.036         4-Apr   \n",
       "\n",
       "   valence music_genre  \n",
       "0    0.759  Electronic  \n",
       "1    0.531  Electronic  \n",
       "2    0.333  Electronic  \n",
       "3    0.270  Electronic  \n",
       "4    0.323  Electronic  "
      ]
     },
     "execution_count": 458,
     "metadata": {},
     "output_type": "execute_result"
    }
   ],
   "source": [
    "#exploring data\n",
    "df.head()"
   ]
  },
  {
   "cell_type": "code",
   "execution_count": 459,
   "metadata": {},
   "outputs": [
    {
     "data": {
      "text/plain": [
       "(50005, 18)"
      ]
     },
     "execution_count": 459,
     "metadata": {},
     "output_type": "execute_result"
    }
   ],
   "source": [
    "#looking at the shape of data\n",
    "df.shape"
   ]
  },
  {
   "cell_type": "code",
   "execution_count": 460,
   "metadata": {},
   "outputs": [
    {
     "data": {
      "text/html": [
       "<div>\n",
       "<style scoped>\n",
       "    .dataframe tbody tr th:only-of-type {\n",
       "        vertical-align: middle;\n",
       "    }\n",
       "\n",
       "    .dataframe tbody tr th {\n",
       "        vertical-align: top;\n",
       "    }\n",
       "\n",
       "    .dataframe thead th {\n",
       "        text-align: right;\n",
       "    }\n",
       "</style>\n",
       "<table border=\"1\" class=\"dataframe\">\n",
       "  <thead>\n",
       "    <tr style=\"text-align: right;\">\n",
       "      <th></th>\n",
       "      <th>instance_id</th>\n",
       "      <th>artist_name</th>\n",
       "      <th>track_name</th>\n",
       "      <th>popularity</th>\n",
       "      <th>acousticness</th>\n",
       "      <th>danceability</th>\n",
       "      <th>duration_ms</th>\n",
       "      <th>energy</th>\n",
       "      <th>instrumentalness</th>\n",
       "      <th>key</th>\n",
       "      <th>liveness</th>\n",
       "      <th>loudness</th>\n",
       "      <th>mode</th>\n",
       "      <th>speechiness</th>\n",
       "      <th>tempo</th>\n",
       "      <th>obtained_date</th>\n",
       "      <th>valence</th>\n",
       "      <th>music_genre</th>\n",
       "    </tr>\n",
       "  </thead>\n",
       "  <tbody>\n",
       "    <tr>\n",
       "      <th>10000</th>\n",
       "      <td>NaN</td>\n",
       "      <td>NaN</td>\n",
       "      <td>NaN</td>\n",
       "      <td>NaN</td>\n",
       "      <td>NaN</td>\n",
       "      <td>NaN</td>\n",
       "      <td>NaN</td>\n",
       "      <td>NaN</td>\n",
       "      <td>NaN</td>\n",
       "      <td>NaN</td>\n",
       "      <td>NaN</td>\n",
       "      <td>NaN</td>\n",
       "      <td>NaN</td>\n",
       "      <td>NaN</td>\n",
       "      <td>NaN</td>\n",
       "      <td>NaN</td>\n",
       "      <td>NaN</td>\n",
       "      <td>NaN</td>\n",
       "    </tr>\n",
       "    <tr>\n",
       "      <th>10001</th>\n",
       "      <td>NaN</td>\n",
       "      <td>NaN</td>\n",
       "      <td>NaN</td>\n",
       "      <td>NaN</td>\n",
       "      <td>NaN</td>\n",
       "      <td>NaN</td>\n",
       "      <td>NaN</td>\n",
       "      <td>NaN</td>\n",
       "      <td>NaN</td>\n",
       "      <td>NaN</td>\n",
       "      <td>NaN</td>\n",
       "      <td>NaN</td>\n",
       "      <td>NaN</td>\n",
       "      <td>NaN</td>\n",
       "      <td>NaN</td>\n",
       "      <td>NaN</td>\n",
       "      <td>NaN</td>\n",
       "      <td>NaN</td>\n",
       "    </tr>\n",
       "    <tr>\n",
       "      <th>10002</th>\n",
       "      <td>NaN</td>\n",
       "      <td>NaN</td>\n",
       "      <td>NaN</td>\n",
       "      <td>NaN</td>\n",
       "      <td>NaN</td>\n",
       "      <td>NaN</td>\n",
       "      <td>NaN</td>\n",
       "      <td>NaN</td>\n",
       "      <td>NaN</td>\n",
       "      <td>NaN</td>\n",
       "      <td>NaN</td>\n",
       "      <td>NaN</td>\n",
       "      <td>NaN</td>\n",
       "      <td>NaN</td>\n",
       "      <td>NaN</td>\n",
       "      <td>NaN</td>\n",
       "      <td>NaN</td>\n",
       "      <td>NaN</td>\n",
       "    </tr>\n",
       "    <tr>\n",
       "      <th>10003</th>\n",
       "      <td>NaN</td>\n",
       "      <td>NaN</td>\n",
       "      <td>NaN</td>\n",
       "      <td>NaN</td>\n",
       "      <td>NaN</td>\n",
       "      <td>NaN</td>\n",
       "      <td>NaN</td>\n",
       "      <td>NaN</td>\n",
       "      <td>NaN</td>\n",
       "      <td>NaN</td>\n",
       "      <td>NaN</td>\n",
       "      <td>NaN</td>\n",
       "      <td>NaN</td>\n",
       "      <td>NaN</td>\n",
       "      <td>NaN</td>\n",
       "      <td>NaN</td>\n",
       "      <td>NaN</td>\n",
       "      <td>NaN</td>\n",
       "    </tr>\n",
       "    <tr>\n",
       "      <th>10004</th>\n",
       "      <td>NaN</td>\n",
       "      <td>NaN</td>\n",
       "      <td>NaN</td>\n",
       "      <td>NaN</td>\n",
       "      <td>NaN</td>\n",
       "      <td>NaN</td>\n",
       "      <td>NaN</td>\n",
       "      <td>NaN</td>\n",
       "      <td>NaN</td>\n",
       "      <td>NaN</td>\n",
       "      <td>NaN</td>\n",
       "      <td>NaN</td>\n",
       "      <td>NaN</td>\n",
       "      <td>NaN</td>\n",
       "      <td>NaN</td>\n",
       "      <td>NaN</td>\n",
       "      <td>NaN</td>\n",
       "      <td>NaN</td>\n",
       "    </tr>\n",
       "  </tbody>\n",
       "</table>\n",
       "</div>"
      ],
      "text/plain": [
       "       instance_id artist_name track_name  popularity  acousticness  \\\n",
       "10000          NaN         NaN        NaN         NaN           NaN   \n",
       "10001          NaN         NaN        NaN         NaN           NaN   \n",
       "10002          NaN         NaN        NaN         NaN           NaN   \n",
       "10003          NaN         NaN        NaN         NaN           NaN   \n",
       "10004          NaN         NaN        NaN         NaN           NaN   \n",
       "\n",
       "       danceability  duration_ms  energy  instrumentalness  key  liveness  \\\n",
       "10000           NaN          NaN     NaN               NaN  NaN       NaN   \n",
       "10001           NaN          NaN     NaN               NaN  NaN       NaN   \n",
       "10002           NaN          NaN     NaN               NaN  NaN       NaN   \n",
       "10003           NaN          NaN     NaN               NaN  NaN       NaN   \n",
       "10004           NaN          NaN     NaN               NaN  NaN       NaN   \n",
       "\n",
       "       loudness mode  speechiness tempo obtained_date  valence music_genre  \n",
       "10000       NaN  NaN          NaN   NaN           NaN      NaN         NaN  \n",
       "10001       NaN  NaN          NaN   NaN           NaN      NaN         NaN  \n",
       "10002       NaN  NaN          NaN   NaN           NaN      NaN         NaN  \n",
       "10003       NaN  NaN          NaN   NaN           NaN      NaN         NaN  \n",
       "10004       NaN  NaN          NaN   NaN           NaN      NaN         NaN  "
      ]
     },
     "execution_count": 460,
     "metadata": {},
     "output_type": "execute_result"
    }
   ],
   "source": [
    "#looking for missing values\n",
    "df[df.isna().any(axis=1)]"
   ]
  },
  {
   "cell_type": "code",
   "execution_count": 461,
   "metadata": {},
   "outputs": [
    {
     "name": "stdout",
     "output_type": "stream",
     "text": [
      "instance_id            5\n",
      "artist_name            5\n",
      "track_name             5\n",
      "popularity             5\n",
      "acousticness           5\n",
      "danceability           5\n",
      "duration_ms            5\n",
      "energy                 5\n",
      "instrumentalness       5\n",
      "key                    5\n",
      "liveness               5\n",
      "loudness               5\n",
      "mode                   5\n",
      "speechiness            5\n",
      "tempo               4985\n",
      "obtained_date          5\n",
      "valence                5\n",
      "music_genre            5\n",
      "dtype: int64\n"
     ]
    }
   ],
   "source": [
    "#search for '?' values and convert them to nan\n",
    "df[df=='?'] = np.nan\n",
    "print(df.isnull().sum())"
   ]
  },
  {
   "cell_type": "code",
   "execution_count": 462,
   "metadata": {},
   "outputs": [],
   "source": [
    "#drop all missing values\n",
    "df = df.dropna()"
   ]
  },
  {
   "cell_type": "code",
   "execution_count": 463,
   "metadata": {},
   "outputs": [],
   "source": [
    "#reseting index\n",
    "df.reset_index(inplace = True)"
   ]
  },
  {
   "cell_type": "code",
   "execution_count": 464,
   "metadata": {},
   "outputs": [],
   "source": [
    "#remove features with no significance for prediction\n",
    "df = df.drop([\"index\", \"instance_id\", \"track_name\", \"artist_name\"], axis=1)"
   ]
  },
  {
   "cell_type": "code",
   "execution_count": 465,
   "metadata": {},
   "outputs": [
    {
     "data": {
      "text/plain": [
       "(45020, 15)"
      ]
     },
     "execution_count": 465,
     "metadata": {},
     "output_type": "execute_result"
    }
   ],
   "source": [
    "#data is now clean of missing values and only 15 features remains\n",
    "df.shape"
   ]
  },
  {
   "cell_type": "code",
   "execution_count": 466,
   "metadata": {},
   "outputs": [
    {
     "data": {
      "text/html": [
       "<div>\n",
       "<style scoped>\n",
       "    .dataframe tbody tr th:only-of-type {\n",
       "        vertical-align: middle;\n",
       "    }\n",
       "\n",
       "    .dataframe tbody tr th {\n",
       "        vertical-align: top;\n",
       "    }\n",
       "\n",
       "    .dataframe thead th {\n",
       "        text-align: right;\n",
       "    }\n",
       "</style>\n",
       "<table border=\"1\" class=\"dataframe\">\n",
       "  <thead>\n",
       "    <tr style=\"text-align: right;\">\n",
       "      <th></th>\n",
       "      <th>popularity</th>\n",
       "      <th>acousticness</th>\n",
       "      <th>danceability</th>\n",
       "      <th>duration_ms</th>\n",
       "      <th>energy</th>\n",
       "      <th>instrumentalness</th>\n",
       "      <th>key</th>\n",
       "      <th>liveness</th>\n",
       "      <th>loudness</th>\n",
       "      <th>mode</th>\n",
       "      <th>speechiness</th>\n",
       "      <th>tempo</th>\n",
       "      <th>obtained_date</th>\n",
       "      <th>valence</th>\n",
       "      <th>music_genre</th>\n",
       "    </tr>\n",
       "  </thead>\n",
       "  <tbody>\n",
       "    <tr>\n",
       "      <th>0</th>\n",
       "      <td>27.0</td>\n",
       "      <td>0.00468</td>\n",
       "      <td>0.652</td>\n",
       "      <td>-1.0</td>\n",
       "      <td>0.941</td>\n",
       "      <td>0.79200</td>\n",
       "      <td>A#</td>\n",
       "      <td>0.115</td>\n",
       "      <td>-5.201</td>\n",
       "      <td>Minor</td>\n",
       "      <td>0.0748</td>\n",
       "      <td>100.889</td>\n",
       "      <td>4-Apr</td>\n",
       "      <td>0.759</td>\n",
       "      <td>Electronic</td>\n",
       "    </tr>\n",
       "    <tr>\n",
       "      <th>1</th>\n",
       "      <td>31.0</td>\n",
       "      <td>0.01270</td>\n",
       "      <td>0.622</td>\n",
       "      <td>218293.0</td>\n",
       "      <td>0.890</td>\n",
       "      <td>0.95000</td>\n",
       "      <td>D</td>\n",
       "      <td>0.124</td>\n",
       "      <td>-7.043</td>\n",
       "      <td>Minor</td>\n",
       "      <td>0.0300</td>\n",
       "      <td>115.00200000000001</td>\n",
       "      <td>4-Apr</td>\n",
       "      <td>0.531</td>\n",
       "      <td>Electronic</td>\n",
       "    </tr>\n",
       "    <tr>\n",
       "      <th>2</th>\n",
       "      <td>28.0</td>\n",
       "      <td>0.00306</td>\n",
       "      <td>0.620</td>\n",
       "      <td>215613.0</td>\n",
       "      <td>0.755</td>\n",
       "      <td>0.01180</td>\n",
       "      <td>G#</td>\n",
       "      <td>0.534</td>\n",
       "      <td>-4.617</td>\n",
       "      <td>Major</td>\n",
       "      <td>0.0345</td>\n",
       "      <td>127.994</td>\n",
       "      <td>4-Apr</td>\n",
       "      <td>0.333</td>\n",
       "      <td>Electronic</td>\n",
       "    </tr>\n",
       "    <tr>\n",
       "      <th>3</th>\n",
       "      <td>34.0</td>\n",
       "      <td>0.02540</td>\n",
       "      <td>0.774</td>\n",
       "      <td>166875.0</td>\n",
       "      <td>0.700</td>\n",
       "      <td>0.00253</td>\n",
       "      <td>C#</td>\n",
       "      <td>0.157</td>\n",
       "      <td>-4.498</td>\n",
       "      <td>Major</td>\n",
       "      <td>0.2390</td>\n",
       "      <td>128.014</td>\n",
       "      <td>4-Apr</td>\n",
       "      <td>0.270</td>\n",
       "      <td>Electronic</td>\n",
       "    </tr>\n",
       "    <tr>\n",
       "      <th>4</th>\n",
       "      <td>32.0</td>\n",
       "      <td>0.00465</td>\n",
       "      <td>0.638</td>\n",
       "      <td>222369.0</td>\n",
       "      <td>0.587</td>\n",
       "      <td>0.90900</td>\n",
       "      <td>F#</td>\n",
       "      <td>0.157</td>\n",
       "      <td>-6.266</td>\n",
       "      <td>Major</td>\n",
       "      <td>0.0413</td>\n",
       "      <td>145.036</td>\n",
       "      <td>4-Apr</td>\n",
       "      <td>0.323</td>\n",
       "      <td>Electronic</td>\n",
       "    </tr>\n",
       "  </tbody>\n",
       "</table>\n",
       "</div>"
      ],
      "text/plain": [
       "   popularity  acousticness  danceability  duration_ms  energy  \\\n",
       "0        27.0       0.00468         0.652         -1.0   0.941   \n",
       "1        31.0       0.01270         0.622     218293.0   0.890   \n",
       "2        28.0       0.00306         0.620     215613.0   0.755   \n",
       "3        34.0       0.02540         0.774     166875.0   0.700   \n",
       "4        32.0       0.00465         0.638     222369.0   0.587   \n",
       "\n",
       "   instrumentalness key  liveness  loudness   mode  speechiness  \\\n",
       "0           0.79200  A#     0.115    -5.201  Minor       0.0748   \n",
       "1           0.95000   D     0.124    -7.043  Minor       0.0300   \n",
       "2           0.01180  G#     0.534    -4.617  Major       0.0345   \n",
       "3           0.00253  C#     0.157    -4.498  Major       0.2390   \n",
       "4           0.90900  F#     0.157    -6.266  Major       0.0413   \n",
       "\n",
       "                tempo obtained_date  valence music_genre  \n",
       "0             100.889         4-Apr    0.759  Electronic  \n",
       "1  115.00200000000001         4-Apr    0.531  Electronic  \n",
       "2             127.994         4-Apr    0.333  Electronic  \n",
       "3             128.014         4-Apr    0.270  Electronic  \n",
       "4             145.036         4-Apr    0.323  Electronic  "
      ]
     },
     "execution_count": 466,
     "metadata": {},
     "output_type": "execute_result"
    }
   ],
   "source": [
    "#looking at the data\n",
    "df.head()"
   ]
  },
  {
   "cell_type": "code",
   "execution_count": 467,
   "metadata": {},
   "outputs": [],
   "source": [
    "#fixing the correctness of 'obtained_date' column; as stated in the beggining of this notebook in the attributes section\n",
    "#giving column correct name\n",
    "df.rename(columns = {'obtained_date':'time_signature'}, inplace = True)"
   ]
  },
  {
   "cell_type": "code",
   "execution_count": 468,
   "metadata": {},
   "outputs": [
    {
     "data": {
      "text/plain": [
       "4-Apr    40301\n",
       "3-Apr     3657\n",
       "5-Apr      710\n",
       "1-Apr      352\n",
       "Name: time_signature, dtype: int64"
      ]
     },
     "execution_count": 468,
     "metadata": {},
     "output_type": "execute_result"
    }
   ],
   "source": [
    "#looking at the value counts of 'time_signature' column\n",
    "df['time_signature'].value_counts()"
   ]
  },
  {
   "cell_type": "code",
   "execution_count": 469,
   "metadata": {},
   "outputs": [],
   "source": [
    "#replacing values with correct ones, 4 meaning 4/4; 3 meaning 3/3; 5 meaning 5/4 and 1 meaning 1/4\n",
    "df['time_signature'] = df['time_signature'].replace('4-Apr', 4)\n",
    "df['time_signature'] = df['time_signature'].replace('3-Apr', 3)\n",
    "df['time_signature'] = df['time_signature'].replace('5-Apr', 5)\n",
    "df['time_signature'] = df['time_signature'].replace('1-Apr', 1)"
   ]
  },
  {
   "cell_type": "code",
   "execution_count": 470,
   "metadata": {},
   "outputs": [
    {
     "data": {
      "text/plain": [
       "4    40301\n",
       "3     3657\n",
       "5      710\n",
       "1      352\n",
       "Name: time_signature, dtype: int64"
      ]
     },
     "execution_count": 470,
     "metadata": {},
     "output_type": "execute_result"
    }
   ],
   "source": [
    "#looking at the value counts of 'time_signature' column after replacement of values\n",
    "df['time_signature'].value_counts()"
   ]
  },
  {
   "cell_type": "code",
   "execution_count": 471,
   "metadata": {},
   "outputs": [],
   "source": [
    "#encode 'key' column with LabelEncoder()\n",
    "key_encoder = LabelEncoder()\n",
    "df['key'] = key_encoder.fit_transform(df['key'])\n",
    "#df['key'].unique() #print encoded values"
   ]
  },
  {
   "cell_type": "code",
   "execution_count": 472,
   "metadata": {},
   "outputs": [],
   "source": [
    "#encode 'mode' column with LabelEncoder()\n",
    "mode_encoder = LabelEncoder()\n",
    "df['mode'] = mode_encoder.fit_transform(df['mode'])\n",
    "#df['mode'].unique() #print encoded values"
   ]
  },
  {
   "cell_type": "code",
   "execution_count": 473,
   "metadata": {},
   "outputs": [],
   "source": [
    "#grouping similar musical genres of target variable for better classification results\n",
    "#resulting categories are: Electronic/Anime, Jazz/Blues, Alternative, Rock/Country, Rap/Hip-Hop, Classical\n",
    "df['music_genre'] = df['music_genre'].replace({'Rap': 'Rap/Hip-Hop', 'Hip-Hop': 'Rap/Hip-Hop',\n",
    "                                               'Jazz': 'Jazz/Blues', 'Blues': 'Jazz/Blues',\n",
    "                                               'Anime': 'Electronic/Anime', 'Electronic': 'Electronic/Anime',\n",
    "                                               'Rock': 'Rock/Country', 'Country': 'Rock/Country'})"
   ]
  },
  {
   "cell_type": "code",
   "execution_count": 474,
   "metadata": {},
   "outputs": [
    {
     "data": {
      "text/plain": [
       "Rock/Country        9047\n",
       "Rap/Hip-Hop         9024\n",
       "Jazz/Blues          8991\n",
       "Electronic/Anime    8963\n",
       "Classical           4500\n",
       "Alternative         4495\n",
       "Name: music_genre, dtype: int64"
      ]
     },
     "execution_count": 474,
     "metadata": {},
     "output_type": "execute_result"
    }
   ],
   "source": [
    "#value counts of music_genre after merging of categories\n",
    "df['music_genre'].value_counts()"
   ]
  },
  {
   "cell_type": "markdown",
   "metadata": {},
   "source": [
    "#### Training and testing data"
   ]
  },
  {
   "cell_type": "code",
   "execution_count": 475,
   "metadata": {},
   "outputs": [],
   "source": [
    "#y = labels; labels are the values we want to predict\n",
    "#define target variable\n",
    "y = df['music_genre']\n",
    "\n",
    "#X = features; features == predictors\n",
    "#remove the labels from the features\n",
    "X = df.drop('music_genre', axis = 1)"
   ]
  },
  {
   "cell_type": "code",
   "execution_count": 476,
   "metadata": {},
   "outputs": [
    {
     "name": "stdout",
     "output_type": "stream",
     "text": [
      "Training Features Shape: (33765, 14)\n",
      "Training Labels Shape: (33765,)\n",
      "Testing Features Shape: (11255, 14)\n",
      "Testing Labels Shape: (11255,)\n"
     ]
    }
   ],
   "source": [
    "#split data into test and train sets (#scikit-learn)\n",
    "X_train, X_test, y_train, y_test = train_test_split(X, y, test_size=0.25, random_state=25)\n",
    "\n",
    "print('Training Features Shape:', X_train.shape)\n",
    "print('Training Labels Shape:', y_train.shape)\n",
    "print('Testing Features Shape:', X_test.shape)\n",
    "print('Testing Labels Shape:', y_test.shape)\n"
   ]
  },
  {
   "cell_type": "markdown",
   "metadata": {},
   "source": [
    "## Vizualizace dat"
   ]
  },
  {
   "cell_type": "code",
   "execution_count": 477,
   "metadata": {},
   "outputs": [],
   "source": [
    "#isolating numeric features for the purpose of visualizing them in histograms\n",
    "numeric_features = [\"popularity\", \"acousticness\", \"danceability\", \"duration_ms\",\n",
    "                     \"energy\", \"instrumentalness\", \"liveness\", \"loudness\", \"speechiness\",\n",
    "                     \"time_signature\", \"valence\"]"
   ]
  },
  {
   "cell_type": "code",
   "execution_count": 478,
   "metadata": {},
   "outputs": [
    {
     "data": {
      "image/png": "[encoded data removed]",
      "text/plain": [
       "<Figure size 720x360 with 1 Axes>"
      ]
     },
     "metadata": {
      "needs_background": "light"
     },
     "output_type": "display_data"
    },
    {
     "data": {
      "image/png": "[encoded data removed]",
      "text/plain": [
       "<Figure size 720x360 with 1 Axes>"
      ]
     },
     "metadata": {
      "needs_background": "light"
     },
     "output_type": "display_data"
    },
    {
     "data": {
      "image/png": "[encoded data removed]",
      "text/plain": [
       "<Figure size 720x360 with 1 Axes>"
      ]
     },
     "metadata": {
      "needs_background": "light"
     },
     "output_type": "display_data"
    },
    {
     "data": {
      "image/png": "[encoded data removed]",
      "text/plain": [
       "<Figure size 720x360 with 1 Axes>"
      ]
     },
     "metadata": {
      "needs_background": "light"
     },
     "output_type": "display_data"
    },
    {
     "data": {
      "image/png": "[encoded data removed]",
      "text/plain": [
       "<Figure size 720x360 with 1 Axes>"
      ]
     },
     "metadata": {
      "needs_background": "light"
     },
     "output_type": "display_data"
    },
    {
     "data": {
      "image/png": "[encoded data removed]",
      "text/plain": [
       "<Figure size 720x360 with 1 Axes>"
      ]
     },
     "metadata": {
      "needs_background": "light"
     },
     "output_type": "display_data"
    },
    {
     "data": {
      "image/png": "[encoded data removed]",
      "text/plain": [
       "<Figure size 720x360 with 1 Axes>"
      ]
     },
     "metadata": {
      "needs_background": "light"
     },
     "output_type": "display_data"
    },
    {
     "data": {
      "image/png": "[encoded data removed]",
      "text/plain": [
       "<Figure size 720x360 with 1 Axes>"
      ]
     },
     "metadata": {
      "needs_background": "light"
     },
     "output_type": "display_data"
    },
    {
     "data": {
      "image/png": "[encoded data removed]",
      "text/plain": [
       "<Figure size 720x360 with 1 Axes>"
      ]
     },
     "metadata": {
      "needs_background": "light"
     },
     "output_type": "display_data"
    },
    {
     "data": {
      "image/png": "[encoded data removed]",
      "text/plain": [
       "<Figure size 720x360 with 1 Axes>"
      ]
     },
     "metadata": {
      "needs_background": "light"
     },
     "output_type": "display_data"
    },
    {
     "data": {
      "image/png": "[encoded data removed]",
      "text/plain": [
       "<Figure size 720x360 with 1 Axes>"
      ]
     },
     "metadata": {
      "needs_background": "light"
     },
     "output_type": "display_data"
    }
   ],
   "source": [
    "#printing histograms for numeric features\n",
    "for col in numeric_features :\n",
    "    plt.figure(figsize=[10,5])\n",
    "    sns.histplot(df[col])"
   ]
  },
  {
   "cell_type": "code",
   "execution_count": 479,
   "metadata": {},
   "outputs": [
    {
     "data": {
      "text/html": [
       "<div>\n",
       "<style scoped>\n",
       "    .dataframe tbody tr th:only-of-type {\n",
       "        vertical-align: middle;\n",
       "    }\n",
       "\n",
       "    .dataframe tbody tr th {\n",
       "        vertical-align: top;\n",
       "    }\n",
       "\n",
       "    .dataframe thead th {\n",
       "        text-align: right;\n",
       "    }\n",
       "</style>\n",
       "<table border=\"1\" class=\"dataframe\">\n",
       "  <thead>\n",
       "    <tr style=\"text-align: right;\">\n",
       "      <th></th>\n",
       "      <th>popularity</th>\n",
       "      <th>acousticness</th>\n",
       "      <th>danceability</th>\n",
       "      <th>duration_ms</th>\n",
       "      <th>energy</th>\n",
       "      <th>instrumentalness</th>\n",
       "      <th>key</th>\n",
       "      <th>liveness</th>\n",
       "      <th>loudness</th>\n",
       "      <th>mode</th>\n",
       "      <th>speechiness</th>\n",
       "      <th>time_signature</th>\n",
       "      <th>valence</th>\n",
       "    </tr>\n",
       "  </thead>\n",
       "  <tbody>\n",
       "    <tr>\n",
       "      <th>count</th>\n",
       "      <td>45020.000000</td>\n",
       "      <td>45020.000000</td>\n",
       "      <td>45020.000000</td>\n",
       "      <td>4.502000e+04</td>\n",
       "      <td>45020.000000</td>\n",
       "      <td>45020.000000</td>\n",
       "      <td>45020.000000</td>\n",
       "      <td>45020.000000</td>\n",
       "      <td>45020.000000</td>\n",
       "      <td>45020.000000</td>\n",
       "      <td>45020.000000</td>\n",
       "      <td>45020.000000</td>\n",
       "      <td>45020.000000</td>\n",
       "    </tr>\n",
       "    <tr>\n",
       "      <th>mean</th>\n",
       "      <td>44.263327</td>\n",
       "      <td>0.306596</td>\n",
       "      <td>0.558532</td>\n",
       "      <td>2.211695e+05</td>\n",
       "      <td>0.599553</td>\n",
       "      <td>0.181843</td>\n",
       "      <td>5.350578</td>\n",
       "      <td>0.193951</td>\n",
       "      <td>-9.137016</td>\n",
       "      <td>0.358641</td>\n",
       "      <td>0.093783</td>\n",
       "      <td>3.911084</td>\n",
       "      <td>0.456394</td>\n",
       "    </tr>\n",
       "    <tr>\n",
       "      <th>std</th>\n",
       "      <td>15.553972</td>\n",
       "      <td>0.341391</td>\n",
       "      <td>0.178858</td>\n",
       "      <td>1.276884e+05</td>\n",
       "      <td>0.264510</td>\n",
       "      <td>0.325847</td>\n",
       "      <td>3.460945</td>\n",
       "      <td>0.161715</td>\n",
       "      <td>6.156400</td>\n",
       "      <td>0.479607</td>\n",
       "      <td>0.101469</td>\n",
       "      <td>0.399334</td>\n",
       "      <td>0.247161</td>\n",
       "    </tr>\n",
       "    <tr>\n",
       "      <th>min</th>\n",
       "      <td>0.000000</td>\n",
       "      <td>0.000000</td>\n",
       "      <td>0.059600</td>\n",
       "      <td>-1.000000e+00</td>\n",
       "      <td>0.000792</td>\n",
       "      <td>0.000000</td>\n",
       "      <td>0.000000</td>\n",
       "      <td>0.009670</td>\n",
       "      <td>-47.046000</td>\n",
       "      <td>0.000000</td>\n",
       "      <td>0.022300</td>\n",
       "      <td>1.000000</td>\n",
       "      <td>0.000000</td>\n",
       "    </tr>\n",
       "    <tr>\n",
       "      <th>25%</th>\n",
       "      <td>34.000000</td>\n",
       "      <td>0.020100</td>\n",
       "      <td>0.442000</td>\n",
       "      <td>1.747230e+05</td>\n",
       "      <td>0.432000</td>\n",
       "      <td>0.000000</td>\n",
       "      <td>3.000000</td>\n",
       "      <td>0.096900</td>\n",
       "      <td>-10.860000</td>\n",
       "      <td>0.000000</td>\n",
       "      <td>0.036100</td>\n",
       "      <td>4.000000</td>\n",
       "      <td>0.257000</td>\n",
       "    </tr>\n",
       "    <tr>\n",
       "      <th>50%</th>\n",
       "      <td>45.000000</td>\n",
       "      <td>0.145000</td>\n",
       "      <td>0.568000</td>\n",
       "      <td>2.194385e+05</td>\n",
       "      <td>0.642000</td>\n",
       "      <td>0.000159</td>\n",
       "      <td>5.000000</td>\n",
       "      <td>0.126000</td>\n",
       "      <td>-7.284000</td>\n",
       "      <td>0.000000</td>\n",
       "      <td>0.048900</td>\n",
       "      <td>4.000000</td>\n",
       "      <td>0.448000</td>\n",
       "    </tr>\n",
       "    <tr>\n",
       "      <th>75%</th>\n",
       "      <td>56.000000</td>\n",
       "      <td>0.551000</td>\n",
       "      <td>0.687000</td>\n",
       "      <td>2.686400e+05</td>\n",
       "      <td>0.815250</td>\n",
       "      <td>0.154000</td>\n",
       "      <td>8.000000</td>\n",
       "      <td>0.244000</td>\n",
       "      <td>-5.177000</td>\n",
       "      <td>1.000000</td>\n",
       "      <td>0.098800</td>\n",
       "      <td>4.000000</td>\n",
       "      <td>0.648000</td>\n",
       "    </tr>\n",
       "    <tr>\n",
       "      <th>max</th>\n",
       "      <td>99.000000</td>\n",
       "      <td>0.996000</td>\n",
       "      <td>0.986000</td>\n",
       "      <td>4.497994e+06</td>\n",
       "      <td>0.999000</td>\n",
       "      <td>0.996000</td>\n",
       "      <td>11.000000</td>\n",
       "      <td>1.000000</td>\n",
       "      <td>3.744000</td>\n",
       "      <td>1.000000</td>\n",
       "      <td>0.942000</td>\n",
       "      <td>5.000000</td>\n",
       "      <td>0.992000</td>\n",
       "    </tr>\n",
       "  </tbody>\n",
       "</table>\n",
       "</div>"
      ],
      "text/plain": [
       "         popularity  acousticness  danceability   duration_ms        energy  \\\n",
       "count  45020.000000  45020.000000  45020.000000  4.502000e+04  45020.000000   \n",
       "mean      44.263327      0.306596      0.558532  2.211695e+05      0.599553   \n",
       "std       15.553972      0.341391      0.178858  1.276884e+05      0.264510   \n",
       "min        0.000000      0.000000      0.059600 -1.000000e+00      0.000792   \n",
       "25%       34.000000      0.020100      0.442000  1.747230e+05      0.432000   \n",
       "50%       45.000000      0.145000      0.568000  2.194385e+05      0.642000   \n",
       "75%       56.000000      0.551000      0.687000  2.686400e+05      0.815250   \n",
       "max       99.000000      0.996000      0.986000  4.497994e+06      0.999000   \n",
       "\n",
       "       instrumentalness           key      liveness      loudness  \\\n",
       "count      45020.000000  45020.000000  45020.000000  45020.000000   \n",
       "mean           0.181843      5.350578      0.193951     -9.137016   \n",
       "std            0.325847      3.460945      0.161715      6.156400   \n",
       "min            0.000000      0.000000      0.009670    -47.046000   \n",
       "25%            0.000000      3.000000      0.096900    -10.860000   \n",
       "50%            0.000159      5.000000      0.126000     -7.284000   \n",
       "75%            0.154000      8.000000      0.244000     -5.177000   \n",
       "max            0.996000     11.000000      1.000000      3.744000   \n",
       "\n",
       "               mode   speechiness  time_signature       valence  \n",
       "count  45020.000000  45020.000000    45020.000000  45020.000000  \n",
       "mean       0.358641      0.093783        3.911084      0.456394  \n",
       "std        0.479607      0.101469        0.399334      0.247161  \n",
       "min        0.000000      0.022300        1.000000      0.000000  \n",
       "25%        0.000000      0.036100        4.000000      0.257000  \n",
       "50%        0.000000      0.048900        4.000000      0.448000  \n",
       "75%        1.000000      0.098800        4.000000      0.648000  \n",
       "max        1.000000      0.942000        5.000000      0.992000  "
      ]
     },
     "execution_count": 479,
     "metadata": {},
     "output_type": "execute_result"
    }
   ],
   "source": [
    "#statistics for each column\n",
    "df.describe()"
   ]
  },
  {
   "cell_type": "code",
   "execution_count": 480,
   "metadata": {},
   "outputs": [
    {
     "name": "stdout",
     "output_type": "stream",
     "text": [
      "(45020, 15)\n"
     ]
    }
   ],
   "source": [
    "#printing shape of data after preprocessing\n",
    "print(df.shape)"
   ]
  },
  {
   "cell_type": "markdown",
   "metadata": {},
   "source": [
    "## Modely\n",
    "\n",
    "Vybrali jsme 3 modely, které dle našeho průzkumu mají velmi dobré výsledky pro \"multiclass\" klasifikaci a jsou tedy vhodné pro naše řešení.\n",
    "\n",
    "* *Random Forest*\n",
    "* *K-Nereast Neighbors*\n",
    "* *Logistic Regression / Naive Bayes*"
   ]
  },
  {
   "cell_type": "markdown",
   "metadata": {},
   "source": [
    "### Random Forest"
   ]
  },
  {
   "cell_type": "code",
   "execution_count": 481,
   "metadata": {},
   "outputs": [
    {
     "name": "stdout",
     "output_type": "stream",
     "text": [
      "Accuracy on train data: 0.9948763512512957\n",
      "Accuracy on test data: 0.7153265215459795\n"
     ]
    }
   ],
   "source": [
    "#RandomForestClassifier\n",
    "#create a Random Forest Classifier\n",
    "clf = RandomForestClassifier(n_estimators=100, random_state=25)\n",
    "\n",
    "#fit the classifier to the training data\n",
    "clf.fit(X_train, y_train)\n",
    "\n",
    "#print the accuracy on train and test data\n",
    "print(\"Accuracy on train data:\", clf.score(X_train, y_train))\n",
    "print(\"Accuracy on test data:\", clf.score(X_test, y_test))"
   ]
  },
  {
   "cell_type": "markdown",
   "metadata": {},
   "source": [
    "### KNN"
   ]
  },
  {
   "cell_type": "code",
   "execution_count": 482,
   "metadata": {},
   "outputs": [
    {
     "name": "stdout",
     "output_type": "stream",
     "text": [
      "Accuracy on train data: 0.4698948615430179\n",
      "Accuracy on test data: 0.29569080408707243\n"
     ]
    }
   ],
   "source": [
    "#KNN\n",
    "#create a KNN Classifier with randomly chosen number of 8 neighbors\n",
    "knn = KNeighborsClassifier(n_neighbors = 8)\n",
    "\n",
    "#fit the classifier to the training data\n",
    "knn.fit(X_train,y_train)\n",
    "\n",
    "#print the accuracy on train and test data\n",
    "print(\"Accuracy on train data:\", knn.score(X_train, y_train))\n",
    "print(\"Accuracy on test data:\", knn.score(X_test, y_test))"
   ]
  },
  {
   "cell_type": "markdown",
   "metadata": {},
   "source": [
    "### Naive Bayes"
   ]
  },
  {
   "cell_type": "code",
   "execution_count": 483,
   "metadata": {},
   "outputs": [
    {
     "name": "stdout",
     "output_type": "stream",
     "text": [
      "Accuracy on train data: 0.497675107359692\n",
      "Accuracy on test data: 0.48822745446468235\n"
     ]
    }
   ],
   "source": [
    "#NaiveBayes\n",
    "#create a Naive Bayes Classifier\n",
    "gnb = GaussianNB(var_smoothing=1e-9)\n",
    "\n",
    "#fit the classifier to the training data\n",
    "gnb.fit(X_train,y_train)\n",
    "\n",
    "#storing the predictions of naive bayes for evaluation\n",
    "gnb_predictions = gnb.predict(X_test)\n",
    "\n",
    "print(\"Accuracy on train data:\", gnb.score(X_train, y_train))\n",
    "print(\"Accuracy on test data:\", gnb.score(X_test, y_test))"
   ]
  },
  {
   "cell_type": "markdown",
   "metadata": {},
   "source": [
    "### Logistic Regression"
   ]
  },
  {
   "cell_type": "code",
   "execution_count": 484,
   "metadata": {},
   "outputs": [],
   "source": [
    "#LogisticRegression\n",
    "#create a Logistic Regression Classifier\n",
    "#log_reg = LogisticRegression(max_iter=500)\n",
    "\n",
    "#fit the classifier to the training data\n",
    "#log_reg.fit(X_train,y_train)\n",
    "\n",
    "#print the accuracy on train and test data\n",
    "#print(\"Accuracy on train data:\", log_reg.score(X_train, y_train))\n",
    "#print(\"Accuracy on test data:\", log_reg.score(X_test, y_test))"
   ]
  },
  {
   "cell_type": "markdown",
   "metadata": {},
   "source": [
    "### Gradient Boosting"
   ]
  },
  {
   "cell_type": "code",
   "execution_count": 485,
   "metadata": {},
   "outputs": [],
   "source": [
    "#GradientBoosting\n",
    "#create a Gradient Boosting Classifier\n",
    "#grc = GradientBoostingClassifier(n_estimators=150, learning_rate=1.0, max_depth=3, random_state=25)\n",
    "#grc.fit(X_train,y_train)\n",
    "                                 \n",
    "#print(\"Accuracy on train data:\", grc.score(X_train, y_train))\n",
    "#print(\"Accuracy on test data:\", grc.score(X_test, y_test))"
   ]
  },
  {
   "cell_type": "markdown",
   "metadata": {},
   "source": [
    "## Fine-tuning metaparametrů"
   ]
  },
  {
   "cell_type": "markdown",
   "metadata": {},
   "source": [
    "### Random Forest tuning"
   ]
  },
  {
   "cell_type": "code",
   "execution_count": 486,
   "metadata": {
    "scrolled": true
   },
   "outputs": [
    {
     "name": "stdout",
     "output_type": "stream",
     "text": [
      "Accuracy on test data: 0.7683399970383533\n",
      "Accuracy on test data: 0.7139937805419814\n"
     ]
    }
   ],
   "source": [
    "#tuning RandomForest\n",
    "#trying multiple variations of parameters\n",
    "#first set of parameters\n",
    "clf_1 = RandomForestClassifier(n_estimators=250, criterion='entropy', max_depth=10, min_samples_split=2, min_samples_leaf=2, random_state=25)\n",
    "clf_1.fit(X_train, y_train)\n",
    "\n",
    "print(\"Accuracy on test data:\", clf_1.score(X_train, y_train))\n",
    "print(\"Accuracy on test data:\", clf_1.score(X_test, y_test))"
   ]
  },
  {
   "cell_type": "code",
   "execution_count": 487,
   "metadata": {},
   "outputs": [
    {
     "name": "stdout",
     "output_type": "stream",
     "text": [
      "Accuracy on test data: 0.9116540796682956\n",
      "Accuracy on test data: 0.7273211905819635\n"
     ]
    }
   ],
   "source": [
    "#second set of parameters\n",
    "clf_2 = RandomForestClassifier(n_estimators=500, criterion='entropy', max_depth=15, min_samples_split=6, min_samples_leaf=2, random_state=25)\n",
    "clf_2.fit(X_train, y_train)\n",
    "\n",
    "print(\"Accuracy on test data:\", clf_2.score(X_train, y_train))\n",
    "print(\"Accuracy on test data:\", clf_2.score(X_test, y_test))"
   ]
  },
  {
   "cell_type": "code",
   "execution_count": 488,
   "metadata": {},
   "outputs": [
    {
     "name": "stdout",
     "output_type": "stream",
     "text": [
      "Accuracy on test data: 0.9570561232045017\n",
      "Accuracy on test data: 0.7269657929808974\n"
     ]
    }
   ],
   "source": [
    "#third set of parameters\n",
    "clf_3 = RandomForestClassifier(n_estimators=750, criterion='entropy', max_depth=17, min_samples_split=3, min_samples_leaf=2, random_state=25)\n",
    "clf_3.fit(X_train, y_train)\n",
    "\n",
    "print(\"Accuracy on test data:\", clf_3.score(X_train, y_train))\n",
    "print(\"Accuracy on test data:\", clf_3.score(X_test, y_test))"
   ]
  },
  {
   "cell_type": "code",
   "execution_count": 489,
   "metadata": {},
   "outputs": [],
   "source": [
    "#storing predictions of the best performing random forest classifier for evaluation\n",
    "clf_predictions = clf_2.predict(X_test)"
   ]
  },
  {
   "cell_type": "markdown",
   "metadata": {},
   "source": [
    "### KNN tuning"
   ]
  },
  {
   "cell_type": "code",
   "execution_count": 490,
   "metadata": {},
   "outputs": [
    {
     "data": {
      "image/png": "[encoded data removed]",
      "text/plain": [
       "<Figure size 432x288 with 1 Axes>"
      ]
     },
     "metadata": {
      "needs_background": "light"
     },
     "output_type": "display_data"
    }
   ],
   "source": [
    "#tuning KNN\n",
    "#setup arrays to store train and test accuracies\n",
    "neighbors = np.arange(1, 20)\n",
    "train_accuracy = np.empty(len(neighbors))\n",
    "test_accuracy = np.empty(len(neighbors))\n",
    "\n",
    "#loop over different values of k\n",
    "for i, k in enumerate(neighbors):\n",
    "    \n",
    "    #setup a k-NN Classifier with k neighbors: knn\n",
    "    knn = KNeighborsClassifier(n_neighbors = k)\n",
    "\n",
    "    #fit the classifier to the training data\n",
    "    knn.fit(X_train, y_train)\n",
    "\n",
    "    #compute accuracy on the training set\n",
    "    train_accuracy[i] = knn.score(X_train, y_train)\n",
    "\n",
    "    #compute accuracy on the testing set\n",
    "    test_accuracy[i] = knn.score(X_test, y_test)\n",
    "\n",
    "#generate plot\n",
    "plt.title('k-NN: Varying Number of Neighbors')\n",
    "plt.plot(neighbors, test_accuracy, label = 'Testing Accuracy')\n",
    "plt.plot(neighbors, train_accuracy, label = 'Training Accuracy')\n",
    "plt.legend()\n",
    "plt.xlabel('Number of Neighbors')\n",
    "plt.ylabel('Accuracy')\n",
    "plt.show()"
   ]
  },
  {
   "cell_type": "code",
   "execution_count": 491,
   "metadata": {},
   "outputs": [
    {
     "data": {
      "text/plain": [
       "KNeighborsClassifier(n_neighbors=1)"
      ]
     },
     "execution_count": 491,
     "metadata": {},
     "output_type": "execute_result"
    }
   ],
   "source": [
    "#create a k-NN classifier with tuned parameters; k = 1\n",
    "knn = KNeighborsClassifier(n_neighbors = 1)\n",
    "\n",
    "#fit the classifier to the training data\n",
    "knn.fit(X_train,y_train)"
   ]
  },
  {
   "cell_type": "code",
   "execution_count": 492,
   "metadata": {},
   "outputs": [],
   "source": [
    "#storing the predictions of knn for evaluation\n",
    "knn_predictions = knn.predict(X_test)"
   ]
  },
  {
   "cell_type": "markdown",
   "metadata": {},
   "source": [
    "### Logistic Regression tunning"
   ]
  },
  {
   "cell_type": "code",
   "execution_count": 493,
   "metadata": {},
   "outputs": [],
   "source": [
    "#tuning LogisticRegression\n",
    "#logreg_1 = LogisticRegression(solver=\"sag\", penalty=\"l2\", multi_class=\"ovr\", max_iter=20000)\n",
    "\n",
    "#logreg_1.fit(X_train, y_train)\n",
    "\n",
    "#print(\"Accuracy on test data:\", logreg_1.score(X_train, y_train))\n",
    "#print(\"Accuracy on test data:\", logreg_1.score(X_test, y_test))"
   ]
  },
  {
   "cell_type": "code",
   "execution_count": 494,
   "metadata": {},
   "outputs": [],
   "source": [
    "#logreg_2 = LogisticRegression(solver=\"saga\", penalty=\"l1\", multi_class=\"ovr\", max_iter=20000)\n",
    "\n",
    "#logreg_2.fit(X_train, y_train)\n",
    "\n",
    "#print(\"Accuracy on test data:\", logreg_2.score(X_train, y_train))\n",
    "#print(\"Accuracy on test data:\", logreg_2.score(X_test, y_test))"
   ]
  },
  {
   "cell_type": "code",
   "execution_count": 495,
   "metadata": {},
   "outputs": [],
   "source": [
    "#storing predictions of logisitic regression classifier for evaluation\n",
    "#logreg_predictions = logreg.predict(X_test)"
   ]
  },
  {
   "cell_type": "markdown",
   "metadata": {},
   "source": [
    "## Výsledky"
   ]
  },
  {
   "cell_type": "markdown",
   "metadata": {},
   "source": [
    "### Random Forest"
   ]
  },
  {
   "cell_type": "code",
   "execution_count": 496,
   "metadata": {},
   "outputs": [
    {
     "name": "stdout",
     "output_type": "stream",
     "text": [
      "Random Forest accuracy: 72.73%\n"
     ]
    }
   ],
   "source": [
    "#accuracy score on test data for random forest\n",
    "clf_acc = accuracy_score(y_test, clf_predictions)\n",
    "print(f'Random Forest accuracy: {clf_acc*100:.2f}%')"
   ]
  },
  {
   "cell_type": "code",
   "execution_count": 497,
   "metadata": {},
   "outputs": [
    {
     "data": {
      "text/html": [
       "<div>\n",
       "<style scoped>\n",
       "    .dataframe tbody tr th:only-of-type {\n",
       "        vertical-align: middle;\n",
       "    }\n",
       "\n",
       "    .dataframe tbody tr th {\n",
       "        vertical-align: top;\n",
       "    }\n",
       "\n",
       "    .dataframe thead th {\n",
       "        text-align: right;\n",
       "    }\n",
       "</style>\n",
       "<table border=\"1\" class=\"dataframe\">\n",
       "  <thead>\n",
       "    <tr style=\"text-align: right;\">\n",
       "      <th></th>\n",
       "      <th>precision</th>\n",
       "      <th>recall</th>\n",
       "      <th>f1-score</th>\n",
       "      <th>support</th>\n",
       "    </tr>\n",
       "  </thead>\n",
       "  <tbody>\n",
       "    <tr>\n",
       "      <th>Alternative</th>\n",
       "      <td>0.525043</td>\n",
       "      <td>0.266200</td>\n",
       "      <td>0.353283</td>\n",
       "      <td>1142.000000</td>\n",
       "    </tr>\n",
       "    <tr>\n",
       "      <th>Classical</th>\n",
       "      <td>0.858890</td>\n",
       "      <td>0.836081</td>\n",
       "      <td>0.847332</td>\n",
       "      <td>1092.000000</td>\n",
       "    </tr>\n",
       "    <tr>\n",
       "      <th>Electronic/Anime</th>\n",
       "      <td>0.757845</td>\n",
       "      <td>0.738476</td>\n",
       "      <td>0.748035</td>\n",
       "      <td>2191.000000</td>\n",
       "    </tr>\n",
       "    <tr>\n",
       "      <th>Jazz/Blues</th>\n",
       "      <td>0.693733</td>\n",
       "      <td>0.696191</td>\n",
       "      <td>0.694960</td>\n",
       "      <td>2258.000000</td>\n",
       "    </tr>\n",
       "    <tr>\n",
       "      <th>Rap/Hip-Hop</th>\n",
       "      <td>0.812578</td>\n",
       "      <td>0.881904</td>\n",
       "      <td>0.845823</td>\n",
       "      <td>2227.000000</td>\n",
       "    </tr>\n",
       "    <tr>\n",
       "      <th>Rock/Country</th>\n",
       "      <td>0.649374</td>\n",
       "      <td>0.773987</td>\n",
       "      <td>0.706226</td>\n",
       "      <td>2345.000000</td>\n",
       "    </tr>\n",
       "    <tr>\n",
       "      <th>accuracy</th>\n",
       "      <td>0.727321</td>\n",
       "      <td>0.727321</td>\n",
       "      <td>0.727321</td>\n",
       "      <td>0.727321</td>\n",
       "    </tr>\n",
       "    <tr>\n",
       "      <th>macro avg</th>\n",
       "      <td>0.716244</td>\n",
       "      <td>0.698806</td>\n",
       "      <td>0.699276</td>\n",
       "      <td>11255.000000</td>\n",
       "    </tr>\n",
       "    <tr>\n",
       "      <th>weighted avg</th>\n",
       "      <td>0.719395</td>\n",
       "      <td>0.727321</td>\n",
       "      <td>0.717605</td>\n",
       "      <td>11255.000000</td>\n",
       "    </tr>\n",
       "  </tbody>\n",
       "</table>\n",
       "</div>"
      ],
      "text/plain": [
       "                  precision    recall  f1-score       support\n",
       "Alternative        0.525043  0.266200  0.353283   1142.000000\n",
       "Classical          0.858890  0.836081  0.847332   1092.000000\n",
       "Electronic/Anime   0.757845  0.738476  0.748035   2191.000000\n",
       "Jazz/Blues         0.693733  0.696191  0.694960   2258.000000\n",
       "Rap/Hip-Hop        0.812578  0.881904  0.845823   2227.000000\n",
       "Rock/Country       0.649374  0.773987  0.706226   2345.000000\n",
       "accuracy           0.727321  0.727321  0.727321      0.727321\n",
       "macro avg          0.716244  0.698806  0.699276  11255.000000\n",
       "weighted avg       0.719395  0.727321  0.717605  11255.000000"
      ]
     },
     "execution_count": 497,
     "metadata": {},
     "output_type": "execute_result"
    }
   ],
   "source": [
    "#classification report for random forest\n",
    "clf_report = classification_report(y_test, clf_predictions, output_dict=True)\n",
    "df_report = pd.DataFrame(clf_report).transpose()\n",
    "df_report"
   ]
  },
  {
   "cell_type": "code",
   "execution_count": 498,
   "metadata": {},
   "outputs": [
    {
     "data": {
      "image/png": "[encoded data removed]",
      "text/plain": [
       "<Figure size 720x360 with 2 Axes>"
      ]
     },
     "metadata": {
      "needs_background": "light"
     },
     "output_type": "display_data"
    }
   ],
   "source": [
    "#confusion metrix for random forest\n",
    "plt.figure(figsize = (10, 5))\n",
    "sns.heatmap(confusion_matrix(y_test, clf_predictions),\n",
    "    annot = True,\n",
    "    fmt = \".0f\",\n",
    "    linewidths = 1,\n",
    "    linecolor = \"red\",\n",
    "    xticklabels = clf_2.classes_,\n",
    "    yticklabels = clf_2.classes_)\n",
    "plt.xlabel(\"Actual values\")\n",
    "plt.ylabel(\"Predicted values\")\n",
    "plt.tight_layout()\n",
    "plt.show()"
   ]
  },
  {
   "cell_type": "markdown",
   "metadata": {},
   "source": [
    "### KNN"
   ]
  },
  {
   "cell_type": "code",
   "execution_count": 499,
   "metadata": {},
   "outputs": [
    {
     "name": "stdout",
     "output_type": "stream",
     "text": [
      "KNN accuracy: 32.20%\n"
     ]
    }
   ],
   "source": [
    "#accuracy score on test data for knn\n",
    "knn_acc = accuracy_score(y_test, knn_predictions)\n",
    "print(f'KNN accuracy: {knn_acc*100:.2f}%')"
   ]
  },
  {
   "cell_type": "code",
   "execution_count": 500,
   "metadata": {},
   "outputs": [
    {
     "data": {
      "text/html": [
       "<div>\n",
       "<style scoped>\n",
       "    .dataframe tbody tr th:only-of-type {\n",
       "        vertical-align: middle;\n",
       "    }\n",
       "\n",
       "    .dataframe tbody tr th {\n",
       "        vertical-align: top;\n",
       "    }\n",
       "\n",
       "    .dataframe thead th {\n",
       "        text-align: right;\n",
       "    }\n",
       "</style>\n",
       "<table border=\"1\" class=\"dataframe\">\n",
       "  <thead>\n",
       "    <tr style=\"text-align: right;\">\n",
       "      <th></th>\n",
       "      <th>precision</th>\n",
       "      <th>recall</th>\n",
       "      <th>f1-score</th>\n",
       "      <th>support</th>\n",
       "    </tr>\n",
       "  </thead>\n",
       "  <tbody>\n",
       "    <tr>\n",
       "      <th>Alternative</th>\n",
       "      <td>0.130763</td>\n",
       "      <td>0.151489</td>\n",
       "      <td>0.140365</td>\n",
       "      <td>1142.00000</td>\n",
       "    </tr>\n",
       "    <tr>\n",
       "      <th>Classical</th>\n",
       "      <td>0.343991</td>\n",
       "      <td>0.285714</td>\n",
       "      <td>0.312156</td>\n",
       "      <td>1092.00000</td>\n",
       "    </tr>\n",
       "    <tr>\n",
       "      <th>Electronic/Anime</th>\n",
       "      <td>0.363860</td>\n",
       "      <td>0.337289</td>\n",
       "      <td>0.350071</td>\n",
       "      <td>2191.00000</td>\n",
       "    </tr>\n",
       "    <tr>\n",
       "      <th>Jazz/Blues</th>\n",
       "      <td>0.295502</td>\n",
       "      <td>0.311337</td>\n",
       "      <td>0.303213</td>\n",
       "      <td>2258.00000</td>\n",
       "    </tr>\n",
       "    <tr>\n",
       "      <th>Rap/Hip-Hop</th>\n",
       "      <td>0.445963</td>\n",
       "      <td>0.468792</td>\n",
       "      <td>0.457093</td>\n",
       "      <td>2227.00000</td>\n",
       "    </tr>\n",
       "    <tr>\n",
       "      <th>Rock/Country</th>\n",
       "      <td>0.287159</td>\n",
       "      <td>0.278465</td>\n",
       "      <td>0.282745</td>\n",
       "      <td>2345.00000</td>\n",
       "    </tr>\n",
       "    <tr>\n",
       "      <th>accuracy</th>\n",
       "      <td>0.321990</td>\n",
       "      <td>0.321990</td>\n",
       "      <td>0.321990</td>\n",
       "      <td>0.32199</td>\n",
       "    </tr>\n",
       "    <tr>\n",
       "      <th>macro avg</th>\n",
       "      <td>0.311207</td>\n",
       "      <td>0.305514</td>\n",
       "      <td>0.307607</td>\n",
       "      <td>11255.00000</td>\n",
       "    </tr>\n",
       "    <tr>\n",
       "      <th>weighted avg</th>\n",
       "      <td>0.324832</td>\n",
       "      <td>0.321990</td>\n",
       "      <td>0.322862</td>\n",
       "      <td>11255.00000</td>\n",
       "    </tr>\n",
       "  </tbody>\n",
       "</table>\n",
       "</div>"
      ],
      "text/plain": [
       "                  precision    recall  f1-score      support\n",
       "Alternative        0.130763  0.151489  0.140365   1142.00000\n",
       "Classical          0.343991  0.285714  0.312156   1092.00000\n",
       "Electronic/Anime   0.363860  0.337289  0.350071   2191.00000\n",
       "Jazz/Blues         0.295502  0.311337  0.303213   2258.00000\n",
       "Rap/Hip-Hop        0.445963  0.468792  0.457093   2227.00000\n",
       "Rock/Country       0.287159  0.278465  0.282745   2345.00000\n",
       "accuracy           0.321990  0.321990  0.321990      0.32199\n",
       "macro avg          0.311207  0.305514  0.307607  11255.00000\n",
       "weighted avg       0.324832  0.321990  0.322862  11255.00000"
      ]
     },
     "execution_count": 500,
     "metadata": {},
     "output_type": "execute_result"
    }
   ],
   "source": [
    "#classification report for knn\n",
    "knn_report = classification_report(y_test, knn_predictions, output_dict=True)\n",
    "df_report = pd.DataFrame(knn_report).transpose()\n",
    "df_report"
   ]
  },
  {
   "cell_type": "code",
   "execution_count": 501,
   "metadata": {},
   "outputs": [
    {
     "data": {
      "image/png": "[encoded data removed]",
      "text/plain": [
       "<Figure size 720x360 with 2 Axes>"
      ]
     },
     "metadata": {
      "needs_background": "light"
     },
     "output_type": "display_data"
    }
   ],
   "source": [
    "#confusion metrix for knn\n",
    "plt.figure(figsize = (10, 5))\n",
    "sns.heatmap(confusion_matrix(y_test, knn_predictions),\n",
    "    annot = True,\n",
    "    fmt = \".0f\",\n",
    "    linewidths = 1,\n",
    "    linecolor = \"red\",\n",
    "    xticklabels = knn.classes_,\n",
    "    yticklabels = knn.classes_)\n",
    "plt.xlabel(\"Actual values\")\n",
    "plt.ylabel(\"Predicted values\")\n",
    "plt.tight_layout()\n",
    "plt.show()"
   ]
  },
  {
   "cell_type": "markdown",
   "metadata": {},
   "source": [
    "### Naive Bayes"
   ]
  },
  {
   "cell_type": "code",
   "execution_count": 502,
   "metadata": {},
   "outputs": [
    {
     "name": "stdout",
     "output_type": "stream",
     "text": [
      "Naive Bayes accuracy: 48.82%\n"
     ]
    }
   ],
   "source": [
    "#accuracy score on test data for naive bayes\n",
    "gnb_acc = accuracy_score(y_test, gnb_predictions)\n",
    "print(f'Naive Bayes accuracy: {gnb_acc*100:.2f}%')"
   ]
  },
  {
   "cell_type": "code",
   "execution_count": 503,
   "metadata": {},
   "outputs": [
    {
     "data": {
      "text/html": [
       "<div>\n",
       "<style scoped>\n",
       "    .dataframe tbody tr th:only-of-type {\n",
       "        vertical-align: middle;\n",
       "    }\n",
       "\n",
       "    .dataframe tbody tr th {\n",
       "        vertical-align: top;\n",
       "    }\n",
       "\n",
       "    .dataframe thead th {\n",
       "        text-align: right;\n",
       "    }\n",
       "</style>\n",
       "<table border=\"1\" class=\"dataframe\">\n",
       "  <thead>\n",
       "    <tr style=\"text-align: right;\">\n",
       "      <th></th>\n",
       "      <th>precision</th>\n",
       "      <th>recall</th>\n",
       "      <th>f1-score</th>\n",
       "      <th>support</th>\n",
       "    </tr>\n",
       "  </thead>\n",
       "  <tbody>\n",
       "    <tr>\n",
       "      <th>Alternative</th>\n",
       "      <td>0.500000</td>\n",
       "      <td>0.000876</td>\n",
       "      <td>0.001748</td>\n",
       "      <td>1142.000000</td>\n",
       "    </tr>\n",
       "    <tr>\n",
       "      <th>Classical</th>\n",
       "      <td>0.777202</td>\n",
       "      <td>0.686813</td>\n",
       "      <td>0.729217</td>\n",
       "      <td>1092.000000</td>\n",
       "    </tr>\n",
       "    <tr>\n",
       "      <th>Electronic/Anime</th>\n",
       "      <td>0.609634</td>\n",
       "      <td>0.554541</td>\n",
       "      <td>0.580784</td>\n",
       "      <td>2191.000000</td>\n",
       "    </tr>\n",
       "    <tr>\n",
       "      <th>Jazz/Blues</th>\n",
       "      <td>0.469141</td>\n",
       "      <td>0.515058</td>\n",
       "      <td>0.491028</td>\n",
       "      <td>2258.000000</td>\n",
       "    </tr>\n",
       "    <tr>\n",
       "      <th>Rap/Hip-Hop</th>\n",
       "      <td>0.492435</td>\n",
       "      <td>0.803772</td>\n",
       "      <td>0.610713</td>\n",
       "      <td>2227.000000</td>\n",
       "    </tr>\n",
       "    <tr>\n",
       "      <th>Rock/Country</th>\n",
       "      <td>0.264099</td>\n",
       "      <td>0.245629</td>\n",
       "      <td>0.254529</td>\n",
       "      <td>2345.000000</td>\n",
       "    </tr>\n",
       "    <tr>\n",
       "      <th>accuracy</th>\n",
       "      <td>0.488227</td>\n",
       "      <td>0.488227</td>\n",
       "      <td>0.488227</td>\n",
       "      <td>0.488227</td>\n",
       "    </tr>\n",
       "    <tr>\n",
       "      <th>macro avg</th>\n",
       "      <td>0.518752</td>\n",
       "      <td>0.467781</td>\n",
       "      <td>0.444670</td>\n",
       "      <td>11255.000000</td>\n",
       "    </tr>\n",
       "    <tr>\n",
       "      <th>weighted avg</th>\n",
       "      <td>0.491399</td>\n",
       "      <td>0.488227</td>\n",
       "      <td>0.456372</td>\n",
       "      <td>11255.000000</td>\n",
       "    </tr>\n",
       "  </tbody>\n",
       "</table>\n",
       "</div>"
      ],
      "text/plain": [
       "                  precision    recall  f1-score       support\n",
       "Alternative        0.500000  0.000876  0.001748   1142.000000\n",
       "Classical          0.777202  0.686813  0.729217   1092.000000\n",
       "Electronic/Anime   0.609634  0.554541  0.580784   2191.000000\n",
       "Jazz/Blues         0.469141  0.515058  0.491028   2258.000000\n",
       "Rap/Hip-Hop        0.492435  0.803772  0.610713   2227.000000\n",
       "Rock/Country       0.264099  0.245629  0.254529   2345.000000\n",
       "accuracy           0.488227  0.488227  0.488227      0.488227\n",
       "macro avg          0.518752  0.467781  0.444670  11255.000000\n",
       "weighted avg       0.491399  0.488227  0.456372  11255.000000"
      ]
     },
     "execution_count": 503,
     "metadata": {},
     "output_type": "execute_result"
    }
   ],
   "source": [
    "#classification report for naive bayes\n",
    "gnb_report = classification_report(y_test, gnb_predictions, output_dict=True)\n",
    "df_report = pd.DataFrame(gnb_report).transpose()\n",
    "df_report"
   ]
  },
  {
   "cell_type": "code",
   "execution_count": 504,
   "metadata": {},
   "outputs": [
    {
     "data": {
      "image/png": "[encoded data removed]",
      "text/plain": [
       "<Figure size 720x360 with 2 Axes>"
      ]
     },
     "metadata": {
      "needs_background": "light"
     },
     "output_type": "display_data"
    }
   ],
   "source": [
    "#confusion metrix for naive bayes\n",
    "plt.figure(figsize = (10, 5))\n",
    "sns.heatmap(confusion_matrix(y_test, gnb_predictions),\n",
    "    annot = True,\n",
    "    fmt = \".0f\",\n",
    "    linewidths = 1,\n",
    "    linecolor = \"red\",\n",
    "    xticklabels = gnb.classes_,\n",
    "    yticklabels = gnb.classes_)\n",
    "plt.xlabel(\"Actual values\")\n",
    "plt.ylabel(\"Predicted values\")\n",
    "plt.tight_layout()\n",
    "plt.show()"
   ]
  },
  {
   "cell_type": "markdown",
   "metadata": {},
   "source": [
    "### Logistic Regression"
   ]
  },
  {
   "cell_type": "code",
   "execution_count": 505,
   "metadata": {},
   "outputs": [],
   "source": [
    "#accuracy score on test data for logistic regression\n",
    "#logreg_acc = accuracy_score(y_test, logreg_predictions)\n",
    "#print(f'Logistic Regression accuracy: {logreg_acc*100:.2f}%')"
   ]
  },
  {
   "cell_type": "code",
   "execution_count": 506,
   "metadata": {},
   "outputs": [],
   "source": [
    "#classification report for logistic regression\n",
    "#logreg_report = classification_report(y_test, logreg_predictions, output_dict=True)\n",
    "#df_report = pd.DataFrame(logreg_report).transpose()\n",
    "#df_report"
   ]
  },
  {
   "cell_type": "code",
   "execution_count": 507,
   "metadata": {},
   "outputs": [],
   "source": [
    "#confusion metrix for logistic regression\n",
    "#plt.figure(figsize = (10, 5))\n",
    "#sns.heatmap(confusion_matrix(y_test, logreg_predictions),\n",
    "#    annot = True,\n",
    "#    fmt = \".0f\",\n",
    "#    linewidths = 1,\n",
    "#    linecolor = \"red\",\n",
    "#    xticklabels = logreg_cv.classes_,\n",
    "#    yticklabels = logreg_cv.classes_)\n",
    "#plt.xlabel(\"Actual values\")\n",
    "#plt.ylabel(\"Predicted values\")\n",
    "#plt.tight_layout()\n",
    "#plt.show()"
   ]
  },
  {
   "cell_type": "markdown",
   "metadata": {},
   "source": [
    "### Závěr\n",
    "\n",
    "Na dataset pro klasifikaci hudebních žánrů jsem aplikovali tři různé modely - Random Forest, KNN a Naivní bayesovský klasifikátor / Logistickou regresi. Modelem s nejhorším výsledkem se stal KNN s úspěšností pouze 32,20 %. Naopak nejlepším modelem byl Random Forest s počtem estimátorů 500, maximální hloubkou stromu 15 a funkcí pro měření kvality rozdělení \"entropy\". Dosáhl úspěšnosti na testovacích datech 72,73 %.\n",
    "\n",
    "Celkově si všechny modely nevedly příliš dobře. Problém by mohl být v počtu tříd (žánrů), do kterých je skladba zařazována. I přes redukci počtu tříd zhruba o polovinu je 6 štítků pořád docela hodně. Z důvodu časové náročnosti funkce GridSearchCV a limitace z hlediska požadavků runtime notebooku pod 2 minuty také nebyly prozkoumány všechny nejlepší možné parametry, což také může být faktorem pro nepříliš dobré výsledky. Dále by mohla také ke špatným výsledkům přispívat povaha datasetu, protože i když skladby spadají do jednoho žánru, jejich vlastnosti nemusí nutně odpovídat nějakým daným pravidlům tohoto žánru."
   ]
  }
 ],
 "metadata": {
  "kernelspec": {
   "display_name": "Python 3 (ipykernel)",
   "language": "python",
   "name": "python3"
  },
  "language_info": {
   "codemirror_mode": {
    "name": "ipython",
    "version": 3
   },
   "file_extension": ".py",
   "mimetype": "text/x-python",
   "name": "python",
   "nbconvert_exporter": "python",
   "pygments_lexer": "ipython3",
   "version": "3.9.12"
  }
 },
 "nbformat": 4,
 "nbformat_minor": 1
}
