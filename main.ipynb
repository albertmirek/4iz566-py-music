{
 "cells": [
  {
   "cell_type": "markdown",
   "metadata": {},
   "source": [
    "# Predikce hudebních žánrů - semestrální projekt \n",
    "\n",
    "Daniel Jírovec, Albert Mírek\n",
    "\n",
    "Tato semestrální práce se zabývá zpracováním datasetu \"Music Genre Prediction\". Dataset byl získán ze stránky Kaggle.com, konkrétně na tomto odkazu: https://www.kaggle.com/datasets/vicsuperman/prediction-of-music-genre\n",
    "\n",
    "Tento Jupyter Notebook se skládá z několika částí:\n",
    "* Popis datasetu a cíl projektu\n",
    "* Předzpracování dat\n",
    "* Vizualizace dat\n",
    "* Tvorba modelů\n",
    "* Fine-tuning metaparametrů\n",
    "* Výsledky"
   ]
  },
  {
   "cell_type": "markdown",
   "metadata": {},
   "source": [
    "## Popis datasetu a cíl projektu\n",
    "\n",
    "Data byla původně shromážděna pomocí Spotify API. Dataset obsahuje informace o jednotlivých hudebních skladbách. Má celkem 18 atributů, z čehož 17 popisuje unikátní vlastnosti každé skladby a poslední atribut, cílový, udává hudební žánr skladby. Cílový atribut může nabývat 10 hodnot (10 žánrů). Dataset má celkem 50 000 instancí, na každou kategorii cílového atributu připadá 5 000 instancí.\n",
    "\n",
    "Cílem tohoto semestrálního projektu je pomocí metod strojového učení a příslušných modelů provést klasifikační úlohu a jednotlivé instance skladeb na základě atributů klasifikovat do příslušného hudebního žánru.\n",
    "\n",
    "### Atributy instancí datasetu\n",
    "\n",
    "* *instance_id*: číslo instance\n",
    "\n",
    "\n",
    "* *artist_name*: jméno umělce\n",
    "\n",
    "\n",
    "* *track_name*: jméno skladby\n",
    "\n",
    "\n",
    "* *popularity*: popularita skladby; čím větší číslo, tím je skladba populárnější\n",
    "\n",
    "\n",
    "* *acousticness*: míra spolehlivosti měřena od 0.0 do 1.0, zda je skladba akustická; 1.0 představuje vysokou konfidenci, že skladba je akustická\n",
    "\n",
    "\n",
    "* *danceability*: popisuje, jak vhodná je skladba pro tanec na základě kombinace hudebních prvků včetně tempa, stability rytmu, taktu a celkové pravidelnosti; při hodnotě 0.0 je píseň nejméně vhodná pro tanec a při hodnotě 1.0 je nejvíce vhodná\n",
    "\n",
    "\n",
    "* *duration_ms*: délka trvání skladby v milisekundách\n",
    "\n",
    "\n",
    "* *energy*: míra energie měřena od 0.0 do 1.0; představuje míru aktivity a intenzity skladby\n",
    "\n",
    "\n",
    "* *instrumentalness*: instrumentálnost říká, v jaké míře skladba neobsahuje vokály, přičemž zvuky jako \"Ooh\" a \"Aah\" jsou v tomto konextu považovány za instrumentální; rap nebo mluvené slovo jsou jednoznačně „vokální“; čím blíže je hodnota instrumentality k 1.0, tím větší je pravděpodobnost, že skladba neobsahuje žádný vokální obsah - hodnoty nad 0.5 mají představovat instrumentální skladby, ale spolehlivost je vyšší, když se hodnota blíží 1.0\n",
    "\n",
    "\n",
    "* *key*: tónina, ve které se skladba nachází; celá čísla se mapují na výšky pomocí standardní notace \"Pitch Class\"; např. 0 = C, 1 = C♯/D♭, 2 = D a tak dále; pokud nebyla detekována žádná tónina, hodnota je -1\n",
    "\n",
    "\n",
    "* *liveness*: detekuje přítomnost publika v nahrávce; vyšší hodnoty atributu představují zvýšenou pravděpodobnost, že nahrávka byla pořízena živě s publikem; hodnota nad 0.8 znamená velkou pravděpodobnost, že je skladba hraná živě\n",
    "\n",
    "* *loudness*: celková hlasitost skladby v decibelech (dB); hodnoty hlasitosti jsou zprůměrovány přes celou délku skladby a jsou užitečné pro porovnání relativní hlasitosti skladeb; hodnoty se obvykle pohybují mezi -50 db a 0 db\n",
    "\n",
    "\n",
    "* *mode*: označuje modalitu (Major = Dur nebo Minor = Moll) skladby - typ stupnice, z níž je odvozen její melodický obsah; major je reprezentován 1 a Minor je 0\n",
    "\n",
    "\n",
    "* *speechiness*: detekuje přítomnost mluveného slova ve stopě; čím více se nahrávka podobá řeči (např. talk show, audiokniha, podcast), tím se hodnota atributu blíží hodnotě 1.0; hodnoty nad 0.66 popisují stopy, které jsou pravděpodobně celé tvořeny mluveným slovem; hodnoty mezi 0.33 a 0.66 popisují stopy, které mohou obsahovat hudbu i řeč, buď v sekcích, nebo ve vrstvách, včetně případů, jako je rapová hudba; hodnoty pod 0.33 s největší pravděpodobností představují hudbu a další skladby, které neobsahují řeč\n",
    "\n",
    "\n",
    "* *tempo*: celkové odhadované tempo skladby v úderech za minutu (BPM); v hudební terminologii je tempo rychlost dané skladby a odvozuje se přímo od průměrné doby trvání taktu\n",
    "\n",
    "\n",
    "* *time_signature* (původně **obtained_date -> v datasetu je uveden název atributu obtained_date, ale hodnoty, což jsou datumy ze začátku dubna (1/4, 3/4 atd.), nedávájí smysl; po našem průzkumu bylo zjištěno, že sloupec měl špatný datový typ a ve sktečnosti se jedná o atribut time_signature -> vysvětlení v popisu atributu dále)**: odhadovaný takt; označení taktu je notační konvence, která určuje, kolik dob je v každém taktu; označení taktu se pohybuje od 1 do 5 označující označení taktu \"1/4\", \"2/4\", \"3/4\", \"4/4\" a \"5/4\"\n",
    "\n",
    "\n",
    "* *valence*: míra od 0.0 do 1.0 popisující hudební pozitivitu v dané skladbě; skladby s vysokou hodonotu zní pozitivněji (např. šťastně, vesele, euforicky), zatímco skladby s nízkou hodnotou znějí negativněji (např. smutně, depresivně, naštvaně)\n",
    "\n",
    "\n",
    "* *music_genre*: hudební žánr skladby; může nabývat 10 hodnot - Electronic, Anime, Jazz, Alternative, Country, Rap, Blues, Rock, Classical a Hip-Hop "
   ]
  },
  {
   "cell_type": "markdown",
   "metadata": {},
   "source": [
    "## Předzpracování dat"
   ]
  },
  {
   "cell_type": "code",
   "execution_count": 277,
   "metadata": {},
   "outputs": [],
   "source": [
    "#imports of required packages\n",
    "import pandas as pd\n",
    "import numpy as np\n",
    "import seaborn as sns\n",
    "import matplotlib.pyplot as plt\n",
    "\n",
    "from sklearn.preprocessing import LabelEncoder\n",
    "from sklearn.model_selection import train_test_split\n",
    "from sklearn.model_selection import GridSearchCV\n",
    "from sklearn.model_selection import RandomizedSearchCV\n",
    "from sklearn.model_selection import cross_val_score\n",
    "from sklearn.ensemble import RandomForestClassifier\n",
    "from sklearn.neighbors import KNeighborsClassifier\n",
    "from sklearn.neural_network import MLPClassifier\n",
    "from sklearn.naive_bayes import GaussianNB\n",
    "from sklearn.ensemble import GradientBoostingClassifier\n",
    "from sklearn.linear_model import LogisticRegression\n",
    "from sklearn.metrics import accuracy_score, confusion_matrix, classification_report\n",
    "from sklearn.metrics import roc_curve, roc_auc_score"
   ]
  },
  {
   "cell_type": "code",
   "execution_count": 70,
   "metadata": {},
   "outputs": [],
   "source": [
    "#loading of dataset\n",
    "df = pd.read_csv('./dataset/music_genre.csv', sep=',')"
   ]
  },
  {
   "cell_type": "code",
   "execution_count": 71,
   "metadata": {},
   "outputs": [
    {
     "data": {
      "text/html": [
       "<div>\n",
       "<style scoped>\n",
       "    .dataframe tbody tr th:only-of-type {\n",
       "        vertical-align: middle;\n",
       "    }\n",
       "\n",
       "    .dataframe tbody tr th {\n",
       "        vertical-align: top;\n",
       "    }\n",
       "\n",
       "    .dataframe thead th {\n",
       "        text-align: right;\n",
       "    }\n",
       "</style>\n",
       "<table border=\"1\" class=\"dataframe\">\n",
       "  <thead>\n",
       "    <tr style=\"text-align: right;\">\n",
       "      <th></th>\n",
       "      <th>instance_id</th>\n",
       "      <th>artist_name</th>\n",
       "      <th>track_name</th>\n",
       "      <th>popularity</th>\n",
       "      <th>acousticness</th>\n",
       "      <th>danceability</th>\n",
       "      <th>duration_ms</th>\n",
       "      <th>energy</th>\n",
       "      <th>instrumentalness</th>\n",
       "      <th>key</th>\n",
       "      <th>liveness</th>\n",
       "      <th>loudness</th>\n",
       "      <th>mode</th>\n",
       "      <th>speechiness</th>\n",
       "      <th>tempo</th>\n",
       "      <th>obtained_date</th>\n",
       "      <th>valence</th>\n",
       "      <th>music_genre</th>\n",
       "    </tr>\n",
       "  </thead>\n",
       "  <tbody>\n",
       "    <tr>\n",
       "      <th>0</th>\n",
       "      <td>32894.0</td>\n",
       "      <td>Röyksopp</td>\n",
       "      <td>Röyksopp's Night Out</td>\n",
       "      <td>27.0</td>\n",
       "      <td>0.00468</td>\n",
       "      <td>0.652</td>\n",
       "      <td>-1.0</td>\n",
       "      <td>0.941</td>\n",
       "      <td>0.79200</td>\n",
       "      <td>A#</td>\n",
       "      <td>0.115</td>\n",
       "      <td>-5.201</td>\n",
       "      <td>Minor</td>\n",
       "      <td>0.0748</td>\n",
       "      <td>100.889</td>\n",
       "      <td>4-Apr</td>\n",
       "      <td>0.759</td>\n",
       "      <td>Electronic</td>\n",
       "    </tr>\n",
       "    <tr>\n",
       "      <th>1</th>\n",
       "      <td>46652.0</td>\n",
       "      <td>Thievery Corporation</td>\n",
       "      <td>The Shining Path</td>\n",
       "      <td>31.0</td>\n",
       "      <td>0.01270</td>\n",
       "      <td>0.622</td>\n",
       "      <td>218293.0</td>\n",
       "      <td>0.890</td>\n",
       "      <td>0.95000</td>\n",
       "      <td>D</td>\n",
       "      <td>0.124</td>\n",
       "      <td>-7.043</td>\n",
       "      <td>Minor</td>\n",
       "      <td>0.0300</td>\n",
       "      <td>115.00200000000001</td>\n",
       "      <td>4-Apr</td>\n",
       "      <td>0.531</td>\n",
       "      <td>Electronic</td>\n",
       "    </tr>\n",
       "    <tr>\n",
       "      <th>2</th>\n",
       "      <td>30097.0</td>\n",
       "      <td>Dillon Francis</td>\n",
       "      <td>Hurricane</td>\n",
       "      <td>28.0</td>\n",
       "      <td>0.00306</td>\n",
       "      <td>0.620</td>\n",
       "      <td>215613.0</td>\n",
       "      <td>0.755</td>\n",
       "      <td>0.01180</td>\n",
       "      <td>G#</td>\n",
       "      <td>0.534</td>\n",
       "      <td>-4.617</td>\n",
       "      <td>Major</td>\n",
       "      <td>0.0345</td>\n",
       "      <td>127.994</td>\n",
       "      <td>4-Apr</td>\n",
       "      <td>0.333</td>\n",
       "      <td>Electronic</td>\n",
       "    </tr>\n",
       "    <tr>\n",
       "      <th>3</th>\n",
       "      <td>62177.0</td>\n",
       "      <td>Dubloadz</td>\n",
       "      <td>Nitro</td>\n",
       "      <td>34.0</td>\n",
       "      <td>0.02540</td>\n",
       "      <td>0.774</td>\n",
       "      <td>166875.0</td>\n",
       "      <td>0.700</td>\n",
       "      <td>0.00253</td>\n",
       "      <td>C#</td>\n",
       "      <td>0.157</td>\n",
       "      <td>-4.498</td>\n",
       "      <td>Major</td>\n",
       "      <td>0.2390</td>\n",
       "      <td>128.014</td>\n",
       "      <td>4-Apr</td>\n",
       "      <td>0.270</td>\n",
       "      <td>Electronic</td>\n",
       "    </tr>\n",
       "    <tr>\n",
       "      <th>4</th>\n",
       "      <td>24907.0</td>\n",
       "      <td>What So Not</td>\n",
       "      <td>Divide &amp; Conquer</td>\n",
       "      <td>32.0</td>\n",
       "      <td>0.00465</td>\n",
       "      <td>0.638</td>\n",
       "      <td>222369.0</td>\n",
       "      <td>0.587</td>\n",
       "      <td>0.90900</td>\n",
       "      <td>F#</td>\n",
       "      <td>0.157</td>\n",
       "      <td>-6.266</td>\n",
       "      <td>Major</td>\n",
       "      <td>0.0413</td>\n",
       "      <td>145.036</td>\n",
       "      <td>4-Apr</td>\n",
       "      <td>0.323</td>\n",
       "      <td>Electronic</td>\n",
       "    </tr>\n",
       "  </tbody>\n",
       "</table>\n",
       "</div>"
      ],
      "text/plain": [
       "   instance_id           artist_name            track_name  popularity  \\\n",
       "0      32894.0              Röyksopp  Röyksopp's Night Out        27.0   \n",
       "1      46652.0  Thievery Corporation      The Shining Path        31.0   \n",
       "2      30097.0        Dillon Francis             Hurricane        28.0   \n",
       "3      62177.0              Dubloadz                 Nitro        34.0   \n",
       "4      24907.0           What So Not      Divide & Conquer        32.0   \n",
       "\n",
       "   acousticness  danceability  duration_ms  energy  instrumentalness key  \\\n",
       "0       0.00468         0.652         -1.0   0.941           0.79200  A#   \n",
       "1       0.01270         0.622     218293.0   0.890           0.95000   D   \n",
       "2       0.00306         0.620     215613.0   0.755           0.01180  G#   \n",
       "3       0.02540         0.774     166875.0   0.700           0.00253  C#   \n",
       "4       0.00465         0.638     222369.0   0.587           0.90900  F#   \n",
       "\n",
       "   liveness  loudness   mode  speechiness               tempo obtained_date  \\\n",
       "0     0.115    -5.201  Minor       0.0748             100.889         4-Apr   \n",
       "1     0.124    -7.043  Minor       0.0300  115.00200000000001         4-Apr   \n",
       "2     0.534    -4.617  Major       0.0345             127.994         4-Apr   \n",
       "3     0.157    -4.498  Major       0.2390             128.014         4-Apr   \n",
       "4     0.157    -6.266  Major       0.0413             145.036         4-Apr   \n",
       "\n",
       "   valence music_genre  \n",
       "0    0.759  Electronic  \n",
       "1    0.531  Electronic  \n",
       "2    0.333  Electronic  \n",
       "3    0.270  Electronic  \n",
       "4    0.323  Electronic  "
      ]
     },
     "execution_count": 71,
     "metadata": {},
     "output_type": "execute_result"
    }
   ],
   "source": [
    "#exploring data\n",
    "df.head()"
   ]
  },
  {
   "cell_type": "code",
   "execution_count": 72,
   "metadata": {},
   "outputs": [
    {
     "data": {
      "text/plain": [
       "(50005, 18)"
      ]
     },
     "execution_count": 72,
     "metadata": {},
     "output_type": "execute_result"
    }
   ],
   "source": [
    "#looking at the shape of data\n",
    "df.shape"
   ]
  },
  {
   "cell_type": "code",
   "execution_count": 73,
   "metadata": {},
   "outputs": [
    {
     "data": {
      "text/html": [
       "<div>\n",
       "<style scoped>\n",
       "    .dataframe tbody tr th:only-of-type {\n",
       "        vertical-align: middle;\n",
       "    }\n",
       "\n",
       "    .dataframe tbody tr th {\n",
       "        vertical-align: top;\n",
       "    }\n",
       "\n",
       "    .dataframe thead th {\n",
       "        text-align: right;\n",
       "    }\n",
       "</style>\n",
       "<table border=\"1\" class=\"dataframe\">\n",
       "  <thead>\n",
       "    <tr style=\"text-align: right;\">\n",
       "      <th></th>\n",
       "      <th>instance_id</th>\n",
       "      <th>artist_name</th>\n",
       "      <th>track_name</th>\n",
       "      <th>popularity</th>\n",
       "      <th>acousticness</th>\n",
       "      <th>danceability</th>\n",
       "      <th>duration_ms</th>\n",
       "      <th>energy</th>\n",
       "      <th>instrumentalness</th>\n",
       "      <th>key</th>\n",
       "      <th>liveness</th>\n",
       "      <th>loudness</th>\n",
       "      <th>mode</th>\n",
       "      <th>speechiness</th>\n",
       "      <th>tempo</th>\n",
       "      <th>obtained_date</th>\n",
       "      <th>valence</th>\n",
       "      <th>music_genre</th>\n",
       "    </tr>\n",
       "  </thead>\n",
       "  <tbody>\n",
       "    <tr>\n",
       "      <th>10000</th>\n",
       "      <td>NaN</td>\n",
       "      <td>NaN</td>\n",
       "      <td>NaN</td>\n",
       "      <td>NaN</td>\n",
       "      <td>NaN</td>\n",
       "      <td>NaN</td>\n",
       "      <td>NaN</td>\n",
       "      <td>NaN</td>\n",
       "      <td>NaN</td>\n",
       "      <td>NaN</td>\n",
       "      <td>NaN</td>\n",
       "      <td>NaN</td>\n",
       "      <td>NaN</td>\n",
       "      <td>NaN</td>\n",
       "      <td>NaN</td>\n",
       "      <td>NaN</td>\n",
       "      <td>NaN</td>\n",
       "      <td>NaN</td>\n",
       "    </tr>\n",
       "    <tr>\n",
       "      <th>10001</th>\n",
       "      <td>NaN</td>\n",
       "      <td>NaN</td>\n",
       "      <td>NaN</td>\n",
       "      <td>NaN</td>\n",
       "      <td>NaN</td>\n",
       "      <td>NaN</td>\n",
       "      <td>NaN</td>\n",
       "      <td>NaN</td>\n",
       "      <td>NaN</td>\n",
       "      <td>NaN</td>\n",
       "      <td>NaN</td>\n",
       "      <td>NaN</td>\n",
       "      <td>NaN</td>\n",
       "      <td>NaN</td>\n",
       "      <td>NaN</td>\n",
       "      <td>NaN</td>\n",
       "      <td>NaN</td>\n",
       "      <td>NaN</td>\n",
       "    </tr>\n",
       "    <tr>\n",
       "      <th>10002</th>\n",
       "      <td>NaN</td>\n",
       "      <td>NaN</td>\n",
       "      <td>NaN</td>\n",
       "      <td>NaN</td>\n",
       "      <td>NaN</td>\n",
       "      <td>NaN</td>\n",
       "      <td>NaN</td>\n",
       "      <td>NaN</td>\n",
       "      <td>NaN</td>\n",
       "      <td>NaN</td>\n",
       "      <td>NaN</td>\n",
       "      <td>NaN</td>\n",
       "      <td>NaN</td>\n",
       "      <td>NaN</td>\n",
       "      <td>NaN</td>\n",
       "      <td>NaN</td>\n",
       "      <td>NaN</td>\n",
       "      <td>NaN</td>\n",
       "    </tr>\n",
       "    <tr>\n",
       "      <th>10003</th>\n",
       "      <td>NaN</td>\n",
       "      <td>NaN</td>\n",
       "      <td>NaN</td>\n",
       "      <td>NaN</td>\n",
       "      <td>NaN</td>\n",
       "      <td>NaN</td>\n",
       "      <td>NaN</td>\n",
       "      <td>NaN</td>\n",
       "      <td>NaN</td>\n",
       "      <td>NaN</td>\n",
       "      <td>NaN</td>\n",
       "      <td>NaN</td>\n",
       "      <td>NaN</td>\n",
       "      <td>NaN</td>\n",
       "      <td>NaN</td>\n",
       "      <td>NaN</td>\n",
       "      <td>NaN</td>\n",
       "      <td>NaN</td>\n",
       "    </tr>\n",
       "    <tr>\n",
       "      <th>10004</th>\n",
       "      <td>NaN</td>\n",
       "      <td>NaN</td>\n",
       "      <td>NaN</td>\n",
       "      <td>NaN</td>\n",
       "      <td>NaN</td>\n",
       "      <td>NaN</td>\n",
       "      <td>NaN</td>\n",
       "      <td>NaN</td>\n",
       "      <td>NaN</td>\n",
       "      <td>NaN</td>\n",
       "      <td>NaN</td>\n",
       "      <td>NaN</td>\n",
       "      <td>NaN</td>\n",
       "      <td>NaN</td>\n",
       "      <td>NaN</td>\n",
       "      <td>NaN</td>\n",
       "      <td>NaN</td>\n",
       "      <td>NaN</td>\n",
       "    </tr>\n",
       "  </tbody>\n",
       "</table>\n",
       "</div>"
      ],
      "text/plain": [
       "       instance_id artist_name track_name  popularity  acousticness  \\\n",
       "10000          NaN         NaN        NaN         NaN           NaN   \n",
       "10001          NaN         NaN        NaN         NaN           NaN   \n",
       "10002          NaN         NaN        NaN         NaN           NaN   \n",
       "10003          NaN         NaN        NaN         NaN           NaN   \n",
       "10004          NaN         NaN        NaN         NaN           NaN   \n",
       "\n",
       "       danceability  duration_ms  energy  instrumentalness  key  liveness  \\\n",
       "10000           NaN          NaN     NaN               NaN  NaN       NaN   \n",
       "10001           NaN          NaN     NaN               NaN  NaN       NaN   \n",
       "10002           NaN          NaN     NaN               NaN  NaN       NaN   \n",
       "10003           NaN          NaN     NaN               NaN  NaN       NaN   \n",
       "10004           NaN          NaN     NaN               NaN  NaN       NaN   \n",
       "\n",
       "       loudness mode  speechiness tempo obtained_date  valence music_genre  \n",
       "10000       NaN  NaN          NaN   NaN           NaN      NaN         NaN  \n",
       "10001       NaN  NaN          NaN   NaN           NaN      NaN         NaN  \n",
       "10002       NaN  NaN          NaN   NaN           NaN      NaN         NaN  \n",
       "10003       NaN  NaN          NaN   NaN           NaN      NaN         NaN  \n",
       "10004       NaN  NaN          NaN   NaN           NaN      NaN         NaN  "
      ]
     },
     "execution_count": 73,
     "metadata": {},
     "output_type": "execute_result"
    }
   ],
   "source": [
    "#looking for missing values\n",
    "df[df.isna().any(axis=1)]"
   ]
  },
  {
   "cell_type": "code",
   "execution_count": 74,
   "metadata": {},
   "outputs": [
    {
     "name": "stdout",
     "output_type": "stream",
     "text": [
      "instance_id            5\n",
      "artist_name            5\n",
      "track_name             5\n",
      "popularity             5\n",
      "acousticness           5\n",
      "danceability           5\n",
      "duration_ms            5\n",
      "energy                 5\n",
      "instrumentalness       5\n",
      "key                    5\n",
      "liveness               5\n",
      "loudness               5\n",
      "mode                   5\n",
      "speechiness            5\n",
      "tempo               4985\n",
      "obtained_date          5\n",
      "valence                5\n",
      "music_genre            5\n",
      "dtype: int64\n"
     ]
    }
   ],
   "source": [
    "#search for '?' values and convert them to nan\n",
    "df[df=='?'] = np.nan\n",
    "print(df.isnull().sum())"
   ]
  },
  {
   "cell_type": "code",
   "execution_count": 75,
   "metadata": {},
   "outputs": [],
   "source": [
    "#drop all missing values\n",
    "df = df.dropna()"
   ]
  },
  {
   "cell_type": "code",
   "execution_count": 76,
   "metadata": {},
   "outputs": [],
   "source": [
    "#reseting index\n",
    "df.reset_index(inplace = True)"
   ]
  },
  {
   "cell_type": "code",
   "execution_count": 77,
   "metadata": {},
   "outputs": [],
   "source": [
    "#remove features with no significance for prediction\n",
    "df = df.drop([\"index\", \"instance_id\", \"track_name\", \"artist_name\"], axis=1)"
   ]
  },
  {
   "cell_type": "code",
   "execution_count": 78,
   "metadata": {},
   "outputs": [
    {
     "data": {
      "text/plain": [
       "(45020, 15)"
      ]
     },
     "execution_count": 78,
     "metadata": {},
     "output_type": "execute_result"
    }
   ],
   "source": [
    "#data is now clean of missing values and only 15 features remains\n",
    "df.shape"
   ]
  },
  {
   "cell_type": "code",
   "execution_count": 79,
   "metadata": {},
   "outputs": [
    {
     "data": {
      "text/html": [
       "<div>\n",
       "<style scoped>\n",
       "    .dataframe tbody tr th:only-of-type {\n",
       "        vertical-align: middle;\n",
       "    }\n",
       "\n",
       "    .dataframe tbody tr th {\n",
       "        vertical-align: top;\n",
       "    }\n",
       "\n",
       "    .dataframe thead th {\n",
       "        text-align: right;\n",
       "    }\n",
       "</style>\n",
       "<table border=\"1\" class=\"dataframe\">\n",
       "  <thead>\n",
       "    <tr style=\"text-align: right;\">\n",
       "      <th></th>\n",
       "      <th>popularity</th>\n",
       "      <th>acousticness</th>\n",
       "      <th>danceability</th>\n",
       "      <th>duration_ms</th>\n",
       "      <th>energy</th>\n",
       "      <th>instrumentalness</th>\n",
       "      <th>key</th>\n",
       "      <th>liveness</th>\n",
       "      <th>loudness</th>\n",
       "      <th>mode</th>\n",
       "      <th>speechiness</th>\n",
       "      <th>tempo</th>\n",
       "      <th>obtained_date</th>\n",
       "      <th>valence</th>\n",
       "      <th>music_genre</th>\n",
       "    </tr>\n",
       "  </thead>\n",
       "  <tbody>\n",
       "    <tr>\n",
       "      <th>0</th>\n",
       "      <td>27.0</td>\n",
       "      <td>0.00468</td>\n",
       "      <td>0.652</td>\n",
       "      <td>-1.0</td>\n",
       "      <td>0.941</td>\n",
       "      <td>0.79200</td>\n",
       "      <td>A#</td>\n",
       "      <td>0.115</td>\n",
       "      <td>-5.201</td>\n",
       "      <td>Minor</td>\n",
       "      <td>0.0748</td>\n",
       "      <td>100.889</td>\n",
       "      <td>4-Apr</td>\n",
       "      <td>0.759</td>\n",
       "      <td>Electronic</td>\n",
       "    </tr>\n",
       "    <tr>\n",
       "      <th>1</th>\n",
       "      <td>31.0</td>\n",
       "      <td>0.01270</td>\n",
       "      <td>0.622</td>\n",
       "      <td>218293.0</td>\n",
       "      <td>0.890</td>\n",
       "      <td>0.95000</td>\n",
       "      <td>D</td>\n",
       "      <td>0.124</td>\n",
       "      <td>-7.043</td>\n",
       "      <td>Minor</td>\n",
       "      <td>0.0300</td>\n",
       "      <td>115.00200000000001</td>\n",
       "      <td>4-Apr</td>\n",
       "      <td>0.531</td>\n",
       "      <td>Electronic</td>\n",
       "    </tr>\n",
       "    <tr>\n",
       "      <th>2</th>\n",
       "      <td>28.0</td>\n",
       "      <td>0.00306</td>\n",
       "      <td>0.620</td>\n",
       "      <td>215613.0</td>\n",
       "      <td>0.755</td>\n",
       "      <td>0.01180</td>\n",
       "      <td>G#</td>\n",
       "      <td>0.534</td>\n",
       "      <td>-4.617</td>\n",
       "      <td>Major</td>\n",
       "      <td>0.0345</td>\n",
       "      <td>127.994</td>\n",
       "      <td>4-Apr</td>\n",
       "      <td>0.333</td>\n",
       "      <td>Electronic</td>\n",
       "    </tr>\n",
       "    <tr>\n",
       "      <th>3</th>\n",
       "      <td>34.0</td>\n",
       "      <td>0.02540</td>\n",
       "      <td>0.774</td>\n",
       "      <td>166875.0</td>\n",
       "      <td>0.700</td>\n",
       "      <td>0.00253</td>\n",
       "      <td>C#</td>\n",
       "      <td>0.157</td>\n",
       "      <td>-4.498</td>\n",
       "      <td>Major</td>\n",
       "      <td>0.2390</td>\n",
       "      <td>128.014</td>\n",
       "      <td>4-Apr</td>\n",
       "      <td>0.270</td>\n",
       "      <td>Electronic</td>\n",
       "    </tr>\n",
       "    <tr>\n",
       "      <th>4</th>\n",
       "      <td>32.0</td>\n",
       "      <td>0.00465</td>\n",
       "      <td>0.638</td>\n",
       "      <td>222369.0</td>\n",
       "      <td>0.587</td>\n",
       "      <td>0.90900</td>\n",
       "      <td>F#</td>\n",
       "      <td>0.157</td>\n",
       "      <td>-6.266</td>\n",
       "      <td>Major</td>\n",
       "      <td>0.0413</td>\n",
       "      <td>145.036</td>\n",
       "      <td>4-Apr</td>\n",
       "      <td>0.323</td>\n",
       "      <td>Electronic</td>\n",
       "    </tr>\n",
       "  </tbody>\n",
       "</table>\n",
       "</div>"
      ],
      "text/plain": [
       "   popularity  acousticness  danceability  duration_ms  energy  \\\n",
       "0        27.0       0.00468         0.652         -1.0   0.941   \n",
       "1        31.0       0.01270         0.622     218293.0   0.890   \n",
       "2        28.0       0.00306         0.620     215613.0   0.755   \n",
       "3        34.0       0.02540         0.774     166875.0   0.700   \n",
       "4        32.0       0.00465         0.638     222369.0   0.587   \n",
       "\n",
       "   instrumentalness key  liveness  loudness   mode  speechiness  \\\n",
       "0           0.79200  A#     0.115    -5.201  Minor       0.0748   \n",
       "1           0.95000   D     0.124    -7.043  Minor       0.0300   \n",
       "2           0.01180  G#     0.534    -4.617  Major       0.0345   \n",
       "3           0.00253  C#     0.157    -4.498  Major       0.2390   \n",
       "4           0.90900  F#     0.157    -6.266  Major       0.0413   \n",
       "\n",
       "                tempo obtained_date  valence music_genre  \n",
       "0             100.889         4-Apr    0.759  Electronic  \n",
       "1  115.00200000000001         4-Apr    0.531  Electronic  \n",
       "2             127.994         4-Apr    0.333  Electronic  \n",
       "3             128.014         4-Apr    0.270  Electronic  \n",
       "4             145.036         4-Apr    0.323  Electronic  "
      ]
     },
     "execution_count": 79,
     "metadata": {},
     "output_type": "execute_result"
    }
   ],
   "source": [
    "#looking at the data\n",
    "df.head()"
   ]
  },
  {
   "cell_type": "code",
   "execution_count": 80,
   "metadata": {},
   "outputs": [],
   "source": [
    "#fixing the correctness of 'obtained_date' column\n",
    "#giving column correct name\n",
    "df.rename(columns = {'obtained_date':'time_signature'}, inplace = True)"
   ]
  },
  {
   "cell_type": "code",
   "execution_count": 81,
   "metadata": {},
   "outputs": [
    {
     "data": {
      "text/plain": [
       "4-Apr    40301\n",
       "3-Apr     3657\n",
       "5-Apr      710\n",
       "1-Apr      352\n",
       "Name: time_signature, dtype: int64"
      ]
     },
     "execution_count": 81,
     "metadata": {},
     "output_type": "execute_result"
    }
   ],
   "source": [
    "#looking at the value counts of 'time_signature' column\n",
    "df['time_signature'].value_counts()"
   ]
  },
  {
   "cell_type": "code",
   "execution_count": 82,
   "metadata": {},
   "outputs": [],
   "source": [
    "#replacing values with correct ones, 4 meaning 4/4; 3 meaning 3/3; 5 meaning 5/4 and 1 meaning 1/4\n",
    "df['time_signature'] = df['time_signature'].replace('4-Apr', 4)\n",
    "df['time_signature'] = df['time_signature'].replace('3-Apr', 3)\n",
    "df['time_signature'] = df['time_signature'].replace('5-Apr', 5)\n",
    "df['time_signature'] = df['time_signature'].replace('1-Apr', 1)"
   ]
  },
  {
   "cell_type": "code",
   "execution_count": 83,
   "metadata": {},
   "outputs": [
    {
     "data": {
      "text/plain": [
       "4    40301\n",
       "3     3657\n",
       "5      710\n",
       "1      352\n",
       "Name: time_signature, dtype: int64"
      ]
     },
     "execution_count": 83,
     "metadata": {},
     "output_type": "execute_result"
    }
   ],
   "source": [
    "#looking at the value counts of 'time_signature' column after replacement of values\n",
    "df['time_signature'].value_counts()"
   ]
  },
  {
   "cell_type": "code",
   "execution_count": 84,
   "metadata": {},
   "outputs": [],
   "source": [
    "#encode 'key' column with LabelEncoder()\n",
    "key_encoder = LabelEncoder()\n",
    "df['key'] = key_encoder.fit_transform(df['key'])\n",
    "#df['key'].unique() #print encoded values"
   ]
  },
  {
   "cell_type": "code",
   "execution_count": 85,
   "metadata": {},
   "outputs": [],
   "source": [
    "#encode 'mode' column with LabelEncoder()\n",
    "mode_encoder = LabelEncoder()\n",
    "df['mode'] = mode_encoder.fit_transform(df['mode'])\n",
    "#df['mode'].unique() #print encoded values"
   ]
  },
  {
   "cell_type": "code",
   "execution_count": 86,
   "metadata": {},
   "outputs": [],
   "source": [
    "#grouping similar musical genres of target variable for better classification results\n",
    "#resulting categories are: Electronic/Anime, Jazz/Blues, Alternative, Rock/Country, Rap/Hip-Hop, Classical\n",
    "df['music_genre'] = df['music_genre'].replace({'Rap': 'Rap/Hip-Hop', 'Hip-Hop': 'Rap/Hip-Hop',\n",
    "                                               'Jazz': 'Jazz/Blues', 'Blues': 'Jazz/Blues',\n",
    "                                               'Anime': 'Electronic/Anime', 'Electronic': 'Electronic/Anime',\n",
    "                                               'Rock': 'Rock/Country', 'Country': 'Rock/Country'})"
   ]
  },
  {
   "cell_type": "code",
   "execution_count": 87,
   "metadata": {},
   "outputs": [
    {
     "data": {
      "text/plain": [
       "Rock/Country        9047\n",
       "Rap/Hip-Hop         9024\n",
       "Jazz/Blues          8991\n",
       "Electronic/Anime    8963\n",
       "Classical           4500\n",
       "Alternative         4495\n",
       "Name: music_genre, dtype: int64"
      ]
     },
     "execution_count": 87,
     "metadata": {},
     "output_type": "execute_result"
    }
   ],
   "source": [
    "#value counts of music_genre after merging of categories\n",
    "df['music_genre'].value_counts()"
   ]
  },
  {
   "cell_type": "markdown",
   "metadata": {},
   "source": [
    "#### Training and testing data"
   ]
  },
  {
   "cell_type": "code",
   "execution_count": 88,
   "metadata": {},
   "outputs": [],
   "source": [
    "#labels are the values we want to predict\n",
    "y = df['music_genre']\n",
    "\n",
    "#Remove the labels from the features\n",
    "X = df.drop('music_genre', axis = 1)"
   ]
  },
  {
   "cell_type": "code",
   "execution_count": 89,
   "metadata": {},
   "outputs": [
    {
     "name": "stdout",
     "output_type": "stream",
     "text": [
      "Training Features Shape: (33765, 14)\n",
      "Training Labels Shape: (33765,)\n",
      "Testing Features Shape: (11255, 14)\n",
      "Testing Labels Shape: (11255,)\n"
     ]
    }
   ],
   "source": [
    "#split into test and train sets (#scikit-learn)\n",
    "X_train, X_test, y_train, y_test = train_test_split(X, y, test_size=0.25, random_state=25)\n",
    "\n",
    "print('Training Features Shape:', X_train.shape)\n",
    "print('Training Labels Shape:', y_train.shape)\n",
    "print('Testing Features Shape:', X_test.shape)\n",
    "print('Testing Labels Shape:', y_test.shape)\n"
   ]
  },
  {
   "cell_type": "markdown",
   "metadata": {},
   "source": [
    "## Vizualizace dat"
   ]
  },
  {
   "cell_type": "code",
   "execution_count": 31,
   "metadata": {},
   "outputs": [],
   "source": [
    "#isolating numeric features\n",
    "numeric_features = df[\"key\", \"music_genre\", \"mode\", \"tempo\"], axis = 1)"
   ]
  },
  {
   "cell_type": "code",
   "execution_count": 36,
   "metadata": {},
   "outputs": [
    {
     "data": {
      "image/png": "[encoded data removed]",
      "text/plain": [
       "<Figure size 720x360 with 1 Axes>"
      ]
     },
     "metadata": {
      "needs_background": "light"
     },
     "output_type": "display_data"
    },
    {
     "data": {
      "image/png": "[encoded data removed]",
      "text/plain": [
       "<Figure size 720x360 with 1 Axes>"
      ]
     },
     "metadata": {
      "needs_background": "light"
     },
     "output_type": "display_data"
    },
    {
     "data": {
      "image/png": "[encoded data removed]",
      "text/plain": [
       "<Figure size 720x360 with 1 Axes>"
      ]
     },
     "metadata": {
      "needs_background": "light"
     },
     "output_type": "display_data"
    },
    {
     "data": {
      "image/png": "[encoded data removed]",
      "text/plain": [
       "<Figure size 720x360 with 1 Axes>"
      ]
     },
     "metadata": {
      "needs_background": "light"
     },
     "output_type": "display_data"
    },
    {
     "data": {
      "image/png": "[encoded data removed]",
      "text/plain": [
       "<Figure size 720x360 with 1 Axes>"
      ]
     },
     "metadata": {
      "needs_background": "light"
     },
     "output_type": "display_data"
    },
    {
     "data": {
      "image/png": "[encoded data removed]",
      "text/plain": [
       "<Figure size 720x360 with 1 Axes>"
      ]
     },
     "metadata": {
      "needs_background": "light"
     },
     "output_type": "display_data"
    },
    {
     "data": {
      "image/png": "[encoded data removed]",
      "text/plain": [
       "<Figure size 720x360 with 1 Axes>"
      ]
     },
     "metadata": {
      "needs_background": "light"
     },
     "output_type": "display_data"
    },
    {
     "data": {
      "image/png": "[encoded data removed]",
      "text/plain": [
       "<Figure size 720x360 with 1 Axes>"
      ]
     },
     "metadata": {
      "needs_background": "light"
     },
     "output_type": "display_data"
    },
    {
     "data": {
      "image/png": "[encoded data removed]",
      "text/plain": [
       "<Figure size 720x360 with 1 Axes>"
      ]
     },
     "metadata": {
      "needs_background": "light"
     },
     "output_type": "display_data"
    },
    {
     "data": {
      "image/png": "[encoded data removed]",
      "text/plain": [
       "<Figure size 720x360 with 1 Axes>"
      ]
     },
     "metadata": {
      "needs_background": "light"
     },
     "output_type": "display_data"
    },
    {
     "data": {
      "image/png": "[encoded data removed]",
      "text/plain": [
       "<Figure size 720x360 with 1 Axes>"
      ]
     },
     "metadata": {
      "needs_background": "light"
     },
     "output_type": "display_data"
    }
   ],
   "source": [
    "#print histograms for numeric features\n",
    "for col in numeric_features :\n",
    "    plt.figure(figsize=[10,5])\n",
    "    sns.histplot(df[col])"
   ]
  },
  {
   "cell_type": "code",
   "execution_count": 90,
   "metadata": {},
   "outputs": [
    {
     "data": {
      "text/html": [
       "<div>\n",
       "<style scoped>\n",
       "    .dataframe tbody tr th:only-of-type {\n",
       "        vertical-align: middle;\n",
       "    }\n",
       "\n",
       "    .dataframe tbody tr th {\n",
       "        vertical-align: top;\n",
       "    }\n",
       "\n",
       "    .dataframe thead th {\n",
       "        text-align: right;\n",
       "    }\n",
       "</style>\n",
       "<table border=\"1\" class=\"dataframe\">\n",
       "  <thead>\n",
       "    <tr style=\"text-align: right;\">\n",
       "      <th></th>\n",
       "      <th>popularity</th>\n",
       "      <th>acousticness</th>\n",
       "      <th>danceability</th>\n",
       "      <th>duration_ms</th>\n",
       "      <th>energy</th>\n",
       "      <th>instrumentalness</th>\n",
       "      <th>key</th>\n",
       "      <th>liveness</th>\n",
       "      <th>loudness</th>\n",
       "      <th>mode</th>\n",
       "      <th>speechiness</th>\n",
       "      <th>time_signature</th>\n",
       "      <th>valence</th>\n",
       "    </tr>\n",
       "  </thead>\n",
       "  <tbody>\n",
       "    <tr>\n",
       "      <th>count</th>\n",
       "      <td>45020.000000</td>\n",
       "      <td>45020.000000</td>\n",
       "      <td>45020.000000</td>\n",
       "      <td>4.502000e+04</td>\n",
       "      <td>45020.000000</td>\n",
       "      <td>45020.000000</td>\n",
       "      <td>45020.000000</td>\n",
       "      <td>45020.000000</td>\n",
       "      <td>45020.000000</td>\n",
       "      <td>45020.000000</td>\n",
       "      <td>45020.000000</td>\n",
       "      <td>45020.000000</td>\n",
       "      <td>45020.000000</td>\n",
       "    </tr>\n",
       "    <tr>\n",
       "      <th>mean</th>\n",
       "      <td>44.263327</td>\n",
       "      <td>0.306596</td>\n",
       "      <td>0.558532</td>\n",
       "      <td>2.211695e+05</td>\n",
       "      <td>0.599553</td>\n",
       "      <td>0.181843</td>\n",
       "      <td>5.350578</td>\n",
       "      <td>0.193951</td>\n",
       "      <td>-9.137016</td>\n",
       "      <td>0.358641</td>\n",
       "      <td>0.093783</td>\n",
       "      <td>3.911084</td>\n",
       "      <td>0.456394</td>\n",
       "    </tr>\n",
       "    <tr>\n",
       "      <th>std</th>\n",
       "      <td>15.553972</td>\n",
       "      <td>0.341391</td>\n",
       "      <td>0.178858</td>\n",
       "      <td>1.276884e+05</td>\n",
       "      <td>0.264510</td>\n",
       "      <td>0.325847</td>\n",
       "      <td>3.460945</td>\n",
       "      <td>0.161715</td>\n",
       "      <td>6.156400</td>\n",
       "      <td>0.479607</td>\n",
       "      <td>0.101469</td>\n",
       "      <td>0.399334</td>\n",
       "      <td>0.247161</td>\n",
       "    </tr>\n",
       "    <tr>\n",
       "      <th>min</th>\n",
       "      <td>0.000000</td>\n",
       "      <td>0.000000</td>\n",
       "      <td>0.059600</td>\n",
       "      <td>-1.000000e+00</td>\n",
       "      <td>0.000792</td>\n",
       "      <td>0.000000</td>\n",
       "      <td>0.000000</td>\n",
       "      <td>0.009670</td>\n",
       "      <td>-47.046000</td>\n",
       "      <td>0.000000</td>\n",
       "      <td>0.022300</td>\n",
       "      <td>1.000000</td>\n",
       "      <td>0.000000</td>\n",
       "    </tr>\n",
       "    <tr>\n",
       "      <th>25%</th>\n",
       "      <td>34.000000</td>\n",
       "      <td>0.020100</td>\n",
       "      <td>0.442000</td>\n",
       "      <td>1.747230e+05</td>\n",
       "      <td>0.432000</td>\n",
       "      <td>0.000000</td>\n",
       "      <td>3.000000</td>\n",
       "      <td>0.096900</td>\n",
       "      <td>-10.860000</td>\n",
       "      <td>0.000000</td>\n",
       "      <td>0.036100</td>\n",
       "      <td>4.000000</td>\n",
       "      <td>0.257000</td>\n",
       "    </tr>\n",
       "    <tr>\n",
       "      <th>50%</th>\n",
       "      <td>45.000000</td>\n",
       "      <td>0.145000</td>\n",
       "      <td>0.568000</td>\n",
       "      <td>2.194385e+05</td>\n",
       "      <td>0.642000</td>\n",
       "      <td>0.000159</td>\n",
       "      <td>5.000000</td>\n",
       "      <td>0.126000</td>\n",
       "      <td>-7.284000</td>\n",
       "      <td>0.000000</td>\n",
       "      <td>0.048900</td>\n",
       "      <td>4.000000</td>\n",
       "      <td>0.448000</td>\n",
       "    </tr>\n",
       "    <tr>\n",
       "      <th>75%</th>\n",
       "      <td>56.000000</td>\n",
       "      <td>0.551000</td>\n",
       "      <td>0.687000</td>\n",
       "      <td>2.686400e+05</td>\n",
       "      <td>0.815250</td>\n",
       "      <td>0.154000</td>\n",
       "      <td>8.000000</td>\n",
       "      <td>0.244000</td>\n",
       "      <td>-5.177000</td>\n",
       "      <td>1.000000</td>\n",
       "      <td>0.098800</td>\n",
       "      <td>4.000000</td>\n",
       "      <td>0.648000</td>\n",
       "    </tr>\n",
       "    <tr>\n",
       "      <th>max</th>\n",
       "      <td>99.000000</td>\n",
       "      <td>0.996000</td>\n",
       "      <td>0.986000</td>\n",
       "      <td>4.497994e+06</td>\n",
       "      <td>0.999000</td>\n",
       "      <td>0.996000</td>\n",
       "      <td>11.000000</td>\n",
       "      <td>1.000000</td>\n",
       "      <td>3.744000</td>\n",
       "      <td>1.000000</td>\n",
       "      <td>0.942000</td>\n",
       "      <td>5.000000</td>\n",
       "      <td>0.992000</td>\n",
       "    </tr>\n",
       "  </tbody>\n",
       "</table>\n",
       "</div>"
      ],
      "text/plain": [
       "         popularity  acousticness  danceability   duration_ms        energy  \\\n",
       "count  45020.000000  45020.000000  45020.000000  4.502000e+04  45020.000000   \n",
       "mean      44.263327      0.306596      0.558532  2.211695e+05      0.599553   \n",
       "std       15.553972      0.341391      0.178858  1.276884e+05      0.264510   \n",
       "min        0.000000      0.000000      0.059600 -1.000000e+00      0.000792   \n",
       "25%       34.000000      0.020100      0.442000  1.747230e+05      0.432000   \n",
       "50%       45.000000      0.145000      0.568000  2.194385e+05      0.642000   \n",
       "75%       56.000000      0.551000      0.687000  2.686400e+05      0.815250   \n",
       "max       99.000000      0.996000      0.986000  4.497994e+06      0.999000   \n",
       "\n",
       "       instrumentalness           key      liveness      loudness  \\\n",
       "count      45020.000000  45020.000000  45020.000000  45020.000000   \n",
       "mean           0.181843      5.350578      0.193951     -9.137016   \n",
       "std            0.325847      3.460945      0.161715      6.156400   \n",
       "min            0.000000      0.000000      0.009670    -47.046000   \n",
       "25%            0.000000      3.000000      0.096900    -10.860000   \n",
       "50%            0.000159      5.000000      0.126000     -7.284000   \n",
       "75%            0.154000      8.000000      0.244000     -5.177000   \n",
       "max            0.996000     11.000000      1.000000      3.744000   \n",
       "\n",
       "               mode   speechiness  time_signature       valence  \n",
       "count  45020.000000  45020.000000    45020.000000  45020.000000  \n",
       "mean       0.358641      0.093783        3.911084      0.456394  \n",
       "std        0.479607      0.101469        0.399334      0.247161  \n",
       "min        0.000000      0.022300        1.000000      0.000000  \n",
       "25%        0.000000      0.036100        4.000000      0.257000  \n",
       "50%        0.000000      0.048900        4.000000      0.448000  \n",
       "75%        1.000000      0.098800        4.000000      0.648000  \n",
       "max        1.000000      0.942000        5.000000      0.992000  "
      ]
     },
     "execution_count": 90,
     "metadata": {},
     "output_type": "execute_result"
    }
   ],
   "source": [
    "#statistics for each column\n",
    "df.describe()"
   ]
  },
  {
   "cell_type": "code",
   "execution_count": 91,
   "metadata": {},
   "outputs": [
    {
     "name": "stdout",
     "output_type": "stream",
     "text": [
      "(45020, 15)\n"
     ]
    }
   ],
   "source": [
    "print(df.shape)"
   ]
  },
  {
   "cell_type": "markdown",
   "metadata": {},
   "source": [
    "## Modely"
   ]
  },
  {
   "cell_type": "markdown",
   "metadata": {},
   "source": [
    "### Random Forest"
   ]
  },
  {
   "cell_type": "code",
   "execution_count": 199,
   "metadata": {},
   "outputs": [
    {
     "name": "stdout",
     "output_type": "stream",
     "text": [
      "Accuracy on train data: 0.9948763512512957\n",
      "Accuracy on test data: 0.7153265215459795\n"
     ]
    }
   ],
   "source": [
    "#RandomForestClassifier\n",
    "#create a Random Forest Classifier\n",
    "clf = RandomForestClassifier(n_estimators=100, random_state=25)\n",
    "\n",
    "#fit the classifier to the training data\n",
    "clf.fit(X_train, y_train)\n",
    "\n",
    "#print the accuracy on train and test data\n",
    "print(\"Accuracy on train data:\", clf.score(X_train, y_train))\n",
    "print(\"Accuracy on test data:\", clf.score(X_test, y_test))"
   ]
  },
  {
   "cell_type": "markdown",
   "metadata": {},
   "source": [
    "### KNN"
   ]
  },
  {
   "cell_type": "code",
   "execution_count": 198,
   "metadata": {},
   "outputs": [
    {
     "name": "stdout",
     "output_type": "stream",
     "text": [
      "Accuracy on train data: 0.4698948615430179\n",
      "Accuracy on test data: 0.29569080408707243\n"
     ]
    }
   ],
   "source": [
    "#KNN\n",
    "#create a KNN Classifier with randomly chosen number of 8 neighbors\n",
    "knn = KNeighborsClassifier(n_neighbors = 8)\n",
    "\n",
    "#fit the classifier to the training data\n",
    "knn.fit(X_train,y_train)\n",
    "\n",
    "#print the accuracy on train and test data\n",
    "print(\"Accuracy on train data:\", knn.score(X_train, y_train))\n",
    "print(\"Accuracy on test data:\", knn.score(X_test, y_test))"
   ]
  },
  {
   "cell_type": "markdown",
   "metadata": {},
   "source": [
    "### Logistic Regression"
   ]
  },
  {
   "cell_type": "code",
   "execution_count": 269,
   "metadata": {},
   "outputs": [
    {
     "name": "stdout",
     "output_type": "stream",
     "text": [
      "Accuracy on train data: 0.4176810306530431\n",
      "Accuracy on test data: 0.414749000444247\n"
     ]
    }
   ],
   "source": [
    "#LogisticRegression\n",
    "#create a Logistic Regression Classifier\n",
    "log_reg = LogisticRegression(max_iter=500)\n",
    "\n",
    "#fit the classifier to the training data\n",
    "log_reg.fit(X_train,y_train)\n",
    "\n",
    "#print the accuracy on train and test data\n",
    "print(\"Accuracy on train data:\", log_reg.score(X_train, y_train))\n",
    "print(\"Accuracy on test data:\", log_reg.score(X_test, y_test))"
   ]
  },
  {
   "cell_type": "markdown",
   "metadata": {},
   "source": [
    "## Naive Bayes"
   ]
  },
  {
   "cell_type": "code",
   "execution_count": 288,
   "metadata": {},
   "outputs": [
    {
     "name": "stdout",
     "output_type": "stream",
     "text": [
      "Accuracy on train data: 0.497675107359692\n",
      "Accuracy on test data: 0.48822745446468235\n"
     ]
    }
   ],
   "source": [
    "#NaiveBayes\n",
    "#create a Naive Bayes Classifier\n",
    "gnb = GaussianNB(var_smoothing=1e-9)\n",
    "\n",
    "gnb.fit(X_train,y_train)\n",
    "\n",
    "print(\"Accuracy on train data:\", gnb.score(X_train, y_train))\n",
    "print(\"Accuracy on test data:\", gnb.score(X_test, y_test))"
   ]
  },
  {
   "cell_type": "markdown",
   "metadata": {},
   "source": [
    "## Gradient Boosting"
   ]
  },
  {
   "cell_type": "code",
   "execution_count": 283,
   "metadata": {},
   "outputs": [
    {
     "name": "stdout",
     "output_type": "stream",
     "text": [
      "Accuracy on train data: 0.7865837405597512\n",
      "Accuracy on test data: 0.688494002665482\n"
     ]
    }
   ],
   "source": [
    "#GradientBoosting\n",
    "#create a Gradient Boosting Classifier\n",
    "grc = GradientBoostingClassifier(n_estimators=150, learning_rate=1.0, max_depth=3, random_state=25)\n",
    "grc.fit(X_train,y_train)\n",
    "                                 \n",
    "print(\"Accuracy on train data:\", grc.score(X_train, y_train))\n",
    "print(\"Accuracy on test data:\", grc.score(X_test, y_test))"
   ]
  },
  {
   "cell_type": "markdown",
   "metadata": {},
   "source": [
    "## Fine-tuning metaparametrů"
   ]
  },
  {
   "cell_type": "markdown",
   "metadata": {},
   "source": [
    "### Random Forest tuning"
   ]
  },
  {
   "cell_type": "code",
   "execution_count": 220,
   "metadata": {
    "scrolled": true
   },
   "outputs": [
    {
     "name": "stdout",
     "output_type": "stream",
     "text": [
      "Accuracy on test data: 0.7683399970383533\n",
      "Accuracy on test data: 0.7139937805419814\n"
     ]
    }
   ],
   "source": [
    "#tuning RandomForest\n",
    "#trying multiple variations of parameters\n",
    "#first set of parameters\n",
    "clf_1 = RandomForestClassifier(n_estimators=250, criterion='entropy', max_depth=10, min_samples_split=2, min_samples_leaf=2, random_state=25)\n",
    "clf_1.fit(X_train, y_train)\n",
    "print(\"Accuracy on test data:\", clf_1.score(X_train, y_train))\n",
    "print(\"Accuracy on test data:\", clf_1.score(X_test, y_test))"
   ]
  },
  {
   "cell_type": "code",
   "execution_count": 222,
   "metadata": {},
   "outputs": [
    {
     "name": "stdout",
     "output_type": "stream",
     "text": [
      "Accuracy on test data: 0.9116540796682956\n",
      "Accuracy on test data: 0.7273211905819635\n"
     ]
    }
   ],
   "source": [
    "#second set of parameters\n",
    "clf_2 = RandomForestClassifier(n_estimators=500, criterion='entropy', max_depth=15, min_samples_split=6, min_samples_leaf=2, random_state=25)\n",
    "clf_2.fit(X_train, y_train)\n",
    "print(\"Accuracy on test data:\", clf_1.score(X_train, y_train))\n",
    "print(\"Accuracy on test data:\", clf_1.score(X_test, y_test))"
   ]
  },
  {
   "cell_type": "code",
   "execution_count": 227,
   "metadata": {},
   "outputs": [
    {
     "name": "stdout",
     "output_type": "stream",
     "text": [
      "Accuracy on test data: 0.9486154301791796\n",
      "Accuracy on test data: 0.7258107507774323\n"
     ]
    }
   ],
   "source": [
    "#third set of parameters\n",
    "clf_3 = RandomForestClassifier(n_estimators=750, criterion='entropy', max_depth=15, min_samples_split=4, min_samples_leaf=2, random_state=25)\n",
    "clf_3.fit(X_train, y_train)\n",
    "print(\"Accuracy on test data:\", clf_1.score(X_train, y_train))\n",
    "print(\"Accuracy on test data:\", clf_1.score(X_test, y_test))"
   ]
  },
  {
   "cell_type": "code",
   "execution_count": 228,
   "metadata": {},
   "outputs": [],
   "source": [
    "#storing predictions of the best performing random forest classifier for evaluation\n",
    "clf_predictions = clf_3.predict(X_test)"
   ]
  },
  {
   "cell_type": "markdown",
   "metadata": {},
   "source": [
    "### KNN tuning"
   ]
  },
  {
   "cell_type": "code",
   "execution_count": 202,
   "metadata": {},
   "outputs": [
    {
     "data": {
      "image/png": "[encoded data removed]",
      "text/plain": [
       "<Figure size 432x288 with 1 Axes>"
      ]
     },
     "metadata": {
      "needs_background": "light"
     },
     "output_type": "display_data"
    }
   ],
   "source": [
    "#tuning KNN\n",
    "#setup arrays to store train and test accuracies\n",
    "neighbors = np.arange(1, 20)\n",
    "train_accuracy = np.empty(len(neighbors))\n",
    "test_accuracy = np.empty(len(neighbors))\n",
    "\n",
    "#loop over different values of k\n",
    "for i, k in enumerate(neighbors):\n",
    "    #setup a k-NN Classifier with k neighbors: knn\n",
    "    knn = KNeighborsClassifier(n_neighbors = k)\n",
    "\n",
    "    #fit the classifier to the training data\n",
    "    knn.fit(X_train, y_train)\n",
    "\n",
    "    #compute accuracy on the training set\n",
    "    train_accuracy[i] = knn.score(X_train, y_train)\n",
    "\n",
    "    #compute accuracy on the testing set\n",
    "    test_accuracy[i] = knn.score(X_test, y_test)\n",
    "\n",
    "#generate plot\n",
    "plt.title('k-NN: Varying Number of Neighbors')\n",
    "plt.plot(neighbors, test_accuracy, label = 'Testing Accuracy')\n",
    "plt.plot(neighbors, train_accuracy, label = 'Training Accuracy')\n",
    "plt.legend()\n",
    "plt.xlabel('Number of Neighbors')\n",
    "plt.ylabel('Accuracy')\n",
    "plt.show()"
   ]
  },
  {
   "cell_type": "code",
   "execution_count": 158,
   "metadata": {},
   "outputs": [
    {
     "data": {
      "text/plain": [
       "KNeighborsClassifier(n_neighbors=1)"
      ]
     },
     "execution_count": 158,
     "metadata": {},
     "output_type": "execute_result"
    }
   ],
   "source": [
    "#create a k-NN classifier with tuned parameters; k = 1\n",
    "knn = KNeighborsClassifier(n_neighbors = 1)\n",
    "\n",
    "#fit the classifier to the training data\n",
    "knn.fit(X_train,y_train)"
   ]
  },
  {
   "cell_type": "code",
   "execution_count": 159,
   "metadata": {},
   "outputs": [],
   "source": [
    "#storing the predictions of knn for evaluation\n",
    "knn_predictions = knn.predict(X_test)"
   ]
  },
  {
   "cell_type": "markdown",
   "metadata": {},
   "source": [
    "### Logistic Regression tunning"
   ]
  },
  {
   "cell_type": "code",
   "execution_count": 273,
   "metadata": {},
   "outputs": [
    {
     "name": "stderr",
     "output_type": "stream",
     "text": [
      "C:\\Users\\danji\\anaconda3\\lib\\site-packages\\sklearn\\linear_model\\_sag.py:352: ConvergenceWarning: The max_iter was reached which means the coef_ did not converge\n",
      "  warnings.warn(\n",
      "C:\\Users\\danji\\anaconda3\\lib\\site-packages\\sklearn\\linear_model\\_sag.py:352: ConvergenceWarning: The max_iter was reached which means the coef_ did not converge\n",
      "  warnings.warn(\n",
      "C:\\Users\\danji\\anaconda3\\lib\\site-packages\\sklearn\\linear_model\\_sag.py:352: ConvergenceWarning: The max_iter was reached which means the coef_ did not converge\n",
      "  warnings.warn(\n",
      "C:\\Users\\danji\\anaconda3\\lib\\site-packages\\sklearn\\linear_model\\_sag.py:352: ConvergenceWarning: The max_iter was reached which means the coef_ did not converge\n",
      "  warnings.warn(\n",
      "C:\\Users\\danji\\anaconda3\\lib\\site-packages\\sklearn\\linear_model\\_sag.py:352: ConvergenceWarning: The max_iter was reached which means the coef_ did not converge\n",
      "  warnings.warn(\n"
     ]
    },
    {
     "name": "stdout",
     "output_type": "stream",
     "text": [
      "Tuned Logistic Regression Parameters: 0.20100695986968756\n",
      "Accuracy on train data after fine-tuning:: 0.20088849400266548\n"
     ]
    },
    {
     "name": "stderr",
     "output_type": "stream",
     "text": [
      "C:\\Users\\danji\\anaconda3\\lib\\site-packages\\sklearn\\linear_model\\_sag.py:352: ConvergenceWarning: The max_iter was reached which means the coef_ did not converge\n",
      "  warnings.warn(\n"
     ]
    }
   ],
   "source": [
    "#tuning LogisticRegression\n",
    "logreg = LogisticRegression(solver=\"sag\", penalty=\"l2\", multi_class=\"ovr\", max_iter=20000)\n",
    "\n",
    "logreg.fit(X_train, y_train)\n",
    "\n",
    "print(\"Accuracy on test data:\", logreg.score(X_train, y_train))\n",
    "print(\"Accuracy on test data:\", logreg.score(X_test, y_test))"
   ]
  },
  {
   "cell_type": "code",
   "execution_count": 267,
   "metadata": {},
   "outputs": [
    {
     "ename": "NotFittedError",
     "evalue": "This LogisticRegression instance is not fitted yet. Call 'fit' with appropriate arguments before using this estimator.",
     "output_type": "error",
     "traceback": [
      "\u001b[1;31m---------------------------------------------------------------------------\u001b[0m",
      "\u001b[1;31mNotFittedError\u001b[0m                            Traceback (most recent call last)",
      "Input \u001b[1;32mIn [267]\u001b[0m, in \u001b[0;36m<cell line: 2>\u001b[1;34m()\u001b[0m\n\u001b[0;32m      1\u001b[0m \u001b[38;5;66;03m#storing predictions of logisitic regression classifier for evaluation\u001b[39;00m\n\u001b[1;32m----> 2\u001b[0m logreg_predictions \u001b[38;5;241m=\u001b[39m \u001b[43mlogreg\u001b[49m\u001b[38;5;241;43m.\u001b[39;49m\u001b[43mpredict\u001b[49m\u001b[43m(\u001b[49m\u001b[43mX_test\u001b[49m\u001b[43m)\u001b[49m\n",
      "File \u001b[1;32m~\\anaconda3\\lib\\site-packages\\sklearn\\linear_model\\_base.py:425\u001b[0m, in \u001b[0;36mLinearClassifierMixin.predict\u001b[1;34m(self, X)\u001b[0m\n\u001b[0;32m    411\u001b[0m \u001b[38;5;28;01mdef\u001b[39;00m \u001b[38;5;21mpredict\u001b[39m(\u001b[38;5;28mself\u001b[39m, X):\n\u001b[0;32m    412\u001b[0m     \u001b[38;5;124;03m\"\"\"\u001b[39;00m\n\u001b[0;32m    413\u001b[0m \u001b[38;5;124;03m    Predict class labels for samples in X.\u001b[39;00m\n\u001b[0;32m    414\u001b[0m \n\u001b[1;32m   (...)\u001b[0m\n\u001b[0;32m    423\u001b[0m \u001b[38;5;124;03m        Vector containing the class labels for each sample.\u001b[39;00m\n\u001b[0;32m    424\u001b[0m \u001b[38;5;124;03m    \"\"\"\u001b[39;00m\n\u001b[1;32m--> 425\u001b[0m     scores \u001b[38;5;241m=\u001b[39m \u001b[38;5;28;43mself\u001b[39;49m\u001b[38;5;241;43m.\u001b[39;49m\u001b[43mdecision_function\u001b[49m\u001b[43m(\u001b[49m\u001b[43mX\u001b[49m\u001b[43m)\u001b[49m\n\u001b[0;32m    426\u001b[0m     \u001b[38;5;28;01mif\u001b[39;00m \u001b[38;5;28mlen\u001b[39m(scores\u001b[38;5;241m.\u001b[39mshape) \u001b[38;5;241m==\u001b[39m \u001b[38;5;241m1\u001b[39m:\n\u001b[0;32m    427\u001b[0m         indices \u001b[38;5;241m=\u001b[39m (scores \u001b[38;5;241m>\u001b[39m \u001b[38;5;241m0\u001b[39m)\u001b[38;5;241m.\u001b[39mastype(\u001b[38;5;28mint\u001b[39m)\n",
      "File \u001b[1;32m~\\anaconda3\\lib\\site-packages\\sklearn\\linear_model\\_base.py:405\u001b[0m, in \u001b[0;36mLinearClassifierMixin.decision_function\u001b[1;34m(self, X)\u001b[0m\n\u001b[0;32m    386\u001b[0m \u001b[38;5;28;01mdef\u001b[39;00m \u001b[38;5;21mdecision_function\u001b[39m(\u001b[38;5;28mself\u001b[39m, X):\n\u001b[0;32m    387\u001b[0m     \u001b[38;5;124;03m\"\"\"\u001b[39;00m\n\u001b[0;32m    388\u001b[0m \u001b[38;5;124;03m    Predict confidence scores for samples.\u001b[39;00m\n\u001b[0;32m    389\u001b[0m \n\u001b[1;32m   (...)\u001b[0m\n\u001b[0;32m    403\u001b[0m \u001b[38;5;124;03m        this class would be predicted.\u001b[39;00m\n\u001b[0;32m    404\u001b[0m \u001b[38;5;124;03m    \"\"\"\u001b[39;00m\n\u001b[1;32m--> 405\u001b[0m     \u001b[43mcheck_is_fitted\u001b[49m\u001b[43m(\u001b[49m\u001b[38;5;28;43mself\u001b[39;49m\u001b[43m)\u001b[49m\n\u001b[0;32m    407\u001b[0m     X \u001b[38;5;241m=\u001b[39m \u001b[38;5;28mself\u001b[39m\u001b[38;5;241m.\u001b[39m_validate_data(X, accept_sparse\u001b[38;5;241m=\u001b[39m\u001b[38;5;124m\"\u001b[39m\u001b[38;5;124mcsr\u001b[39m\u001b[38;5;124m\"\u001b[39m, reset\u001b[38;5;241m=\u001b[39m\u001b[38;5;28;01mFalse\u001b[39;00m)\n\u001b[0;32m    408\u001b[0m     scores \u001b[38;5;241m=\u001b[39m safe_sparse_dot(X, \u001b[38;5;28mself\u001b[39m\u001b[38;5;241m.\u001b[39mcoef_\u001b[38;5;241m.\u001b[39mT, dense_output\u001b[38;5;241m=\u001b[39m\u001b[38;5;28;01mTrue\u001b[39;00m) \u001b[38;5;241m+\u001b[39m \u001b[38;5;28mself\u001b[39m\u001b[38;5;241m.\u001b[39mintercept_\n",
      "File \u001b[1;32m~\\anaconda3\\lib\\site-packages\\sklearn\\utils\\validation.py:1222\u001b[0m, in \u001b[0;36mcheck_is_fitted\u001b[1;34m(estimator, attributes, msg, all_or_any)\u001b[0m\n\u001b[0;32m   1217\u001b[0m     fitted \u001b[38;5;241m=\u001b[39m [\n\u001b[0;32m   1218\u001b[0m         v \u001b[38;5;28;01mfor\u001b[39;00m v \u001b[38;5;129;01min\u001b[39;00m \u001b[38;5;28mvars\u001b[39m(estimator) \u001b[38;5;28;01mif\u001b[39;00m v\u001b[38;5;241m.\u001b[39mendswith(\u001b[38;5;124m\"\u001b[39m\u001b[38;5;124m_\u001b[39m\u001b[38;5;124m\"\u001b[39m) \u001b[38;5;129;01mand\u001b[39;00m \u001b[38;5;129;01mnot\u001b[39;00m v\u001b[38;5;241m.\u001b[39mstartswith(\u001b[38;5;124m\"\u001b[39m\u001b[38;5;124m__\u001b[39m\u001b[38;5;124m\"\u001b[39m)\n\u001b[0;32m   1219\u001b[0m     ]\n\u001b[0;32m   1221\u001b[0m \u001b[38;5;28;01mif\u001b[39;00m \u001b[38;5;129;01mnot\u001b[39;00m fitted:\n\u001b[1;32m-> 1222\u001b[0m     \u001b[38;5;28;01mraise\u001b[39;00m NotFittedError(msg \u001b[38;5;241m%\u001b[39m {\u001b[38;5;124m\"\u001b[39m\u001b[38;5;124mname\u001b[39m\u001b[38;5;124m\"\u001b[39m: \u001b[38;5;28mtype\u001b[39m(estimator)\u001b[38;5;241m.\u001b[39m\u001b[38;5;18m__name__\u001b[39m})\n",
      "\u001b[1;31mNotFittedError\u001b[0m: This LogisticRegression instance is not fitted yet. Call 'fit' with appropriate arguments before using this estimator."
     ]
    }
   ],
   "source": [
    "#storing predictions of logisitic regression classifier for evaluation\n",
    "logreg_predictions = logreg.predict(X_test)"
   ]
  },
  {
   "cell_type": "markdown",
   "metadata": {},
   "source": [
    "## Výsledky"
   ]
  },
  {
   "cell_type": "markdown",
   "metadata": {},
   "source": [
    "### Random Forest"
   ]
  },
  {
   "cell_type": "code",
   "execution_count": 229,
   "metadata": {},
   "outputs": [
    {
     "name": "stdout",
     "output_type": "stream",
     "text": [
      "clf_accuracy: 72.49%\n"
     ]
    }
   ],
   "source": [
    "#accuracy score on test data for random forest\n",
    "clf_acc = accuracy_score(y_test, clf_predictions)\n",
    "print(f'clf_accuracy: {clf_acc*100:.2f}%')"
   ]
  },
  {
   "cell_type": "code",
   "execution_count": 230,
   "metadata": {},
   "outputs": [
    {
     "data": {
      "text/html": [
       "<div>\n",
       "<style scoped>\n",
       "    .dataframe tbody tr th:only-of-type {\n",
       "        vertical-align: middle;\n",
       "    }\n",
       "\n",
       "    .dataframe tbody tr th {\n",
       "        vertical-align: top;\n",
       "    }\n",
       "\n",
       "    .dataframe thead th {\n",
       "        text-align: right;\n",
       "    }\n",
       "</style>\n",
       "<table border=\"1\" class=\"dataframe\">\n",
       "  <thead>\n",
       "    <tr style=\"text-align: right;\">\n",
       "      <th></th>\n",
       "      <th>precision</th>\n",
       "      <th>recall</th>\n",
       "      <th>f1-score</th>\n",
       "      <th>support</th>\n",
       "    </tr>\n",
       "  </thead>\n",
       "  <tbody>\n",
       "    <tr>\n",
       "      <th>Alternative</th>\n",
       "      <td>0.509244</td>\n",
       "      <td>0.265324</td>\n",
       "      <td>0.348877</td>\n",
       "      <td>1142.000000</td>\n",
       "    </tr>\n",
       "    <tr>\n",
       "      <th>Classical</th>\n",
       "      <td>0.856604</td>\n",
       "      <td>0.831502</td>\n",
       "      <td>0.843866</td>\n",
       "      <td>1092.000000</td>\n",
       "    </tr>\n",
       "    <tr>\n",
       "      <th>Electronic/Anime</th>\n",
       "      <td>0.760377</td>\n",
       "      <td>0.735737</td>\n",
       "      <td>0.747854</td>\n",
       "      <td>2191.000000</td>\n",
       "    </tr>\n",
       "    <tr>\n",
       "      <th>Jazz/Blues</th>\n",
       "      <td>0.686266</td>\n",
       "      <td>0.692648</td>\n",
       "      <td>0.689442</td>\n",
       "      <td>2258.000000</td>\n",
       "    </tr>\n",
       "    <tr>\n",
       "      <th>Rap/Hip-Hop</th>\n",
       "      <td>0.814002</td>\n",
       "      <td>0.882353</td>\n",
       "      <td>0.846800</td>\n",
       "      <td>2227.000000</td>\n",
       "    </tr>\n",
       "    <tr>\n",
       "      <th>Rock/Country</th>\n",
       "      <td>0.648367</td>\n",
       "      <td>0.770576</td>\n",
       "      <td>0.704209</td>\n",
       "      <td>2345.000000</td>\n",
       "    </tr>\n",
       "    <tr>\n",
       "      <th>accuracy</th>\n",
       "      <td>0.724922</td>\n",
       "      <td>0.724922</td>\n",
       "      <td>0.724922</td>\n",
       "      <td>0.724922</td>\n",
       "    </tr>\n",
       "    <tr>\n",
       "      <th>macro avg</th>\n",
       "      <td>0.712477</td>\n",
       "      <td>0.696357</td>\n",
       "      <td>0.696842</td>\n",
       "      <td>11255.000000</td>\n",
       "    </tr>\n",
       "    <tr>\n",
       "      <th>weighted avg</th>\n",
       "      <td>0.716637</td>\n",
       "      <td>0.724922</td>\n",
       "      <td>0.715453</td>\n",
       "      <td>11255.000000</td>\n",
       "    </tr>\n",
       "  </tbody>\n",
       "</table>\n",
       "</div>"
      ],
      "text/plain": [
       "                  precision    recall  f1-score       support\n",
       "Alternative        0.509244  0.265324  0.348877   1142.000000\n",
       "Classical          0.856604  0.831502  0.843866   1092.000000\n",
       "Electronic/Anime   0.760377  0.735737  0.747854   2191.000000\n",
       "Jazz/Blues         0.686266  0.692648  0.689442   2258.000000\n",
       "Rap/Hip-Hop        0.814002  0.882353  0.846800   2227.000000\n",
       "Rock/Country       0.648367  0.770576  0.704209   2345.000000\n",
       "accuracy           0.724922  0.724922  0.724922      0.724922\n",
       "macro avg          0.712477  0.696357  0.696842  11255.000000\n",
       "weighted avg       0.716637  0.724922  0.715453  11255.000000"
      ]
     },
     "execution_count": 230,
     "metadata": {},
     "output_type": "execute_result"
    }
   ],
   "source": [
    "#classification report for random forest\n",
    "clf_report = classification_report(y_test, clf_predictions, output_dict=True)\n",
    "df_report = pd.DataFrame(clf_report).transpose()\n",
    "df_report"
   ]
  },
  {
   "cell_type": "code",
   "execution_count": 244,
   "metadata": {},
   "outputs": [
    {
     "data": {
      "image/png": "[encoded data removed]",
      "text/plain": [
       "<Figure size 720x360 with 2 Axes>"
      ]
     },
     "metadata": {
      "needs_background": "light"
     },
     "output_type": "display_data"
    }
   ],
   "source": [
    "#confusion metrix for random forest\n",
    "plt.figure(figsize = (10, 5))\n",
    "sns.heatmap(confusion_matrix(y_test, clf_predictions),\n",
    "    annot = True,\n",
    "    fmt = \".0f\",\n",
    "    linewidths = 1,\n",
    "    linecolor = \"red\",\n",
    "    xticklabels = clf_3.classes_,\n",
    "    yticklabels = clf_3.classes_)\n",
    "plt.xlabel(\"Actual values\")\n",
    "plt.ylabel(\"Predicted values\")\n",
    "plt.tight_layout()\n",
    "plt.show()"
   ]
  },
  {
   "cell_type": "markdown",
   "metadata": {},
   "source": [
    "### KNN"
   ]
  },
  {
   "cell_type": "code",
   "execution_count": 192,
   "metadata": {},
   "outputs": [
    {
     "name": "stdout",
     "output_type": "stream",
     "text": [
      "knn_accuracy: 32.20%\n"
     ]
    }
   ],
   "source": [
    "#accuracy score on test data for knn\n",
    "knn_acc = accuracy_score(y_test, knn_predictions)\n",
    "print(f'knn_accuracy: {knn_acc*100:.2f}%')"
   ]
  },
  {
   "cell_type": "code",
   "execution_count": 184,
   "metadata": {},
   "outputs": [
    {
     "data": {
      "text/html": [
       "<div>\n",
       "<style scoped>\n",
       "    .dataframe tbody tr th:only-of-type {\n",
       "        vertical-align: middle;\n",
       "    }\n",
       "\n",
       "    .dataframe tbody tr th {\n",
       "        vertical-align: top;\n",
       "    }\n",
       "\n",
       "    .dataframe thead th {\n",
       "        text-align: right;\n",
       "    }\n",
       "</style>\n",
       "<table border=\"1\" class=\"dataframe\">\n",
       "  <thead>\n",
       "    <tr style=\"text-align: right;\">\n",
       "      <th></th>\n",
       "      <th>precision</th>\n",
       "      <th>recall</th>\n",
       "      <th>f1-score</th>\n",
       "      <th>support</th>\n",
       "    </tr>\n",
       "  </thead>\n",
       "  <tbody>\n",
       "    <tr>\n",
       "      <th>Alternative</th>\n",
       "      <td>0.130763</td>\n",
       "      <td>0.151489</td>\n",
       "      <td>0.140365</td>\n",
       "      <td>1142.00000</td>\n",
       "    </tr>\n",
       "    <tr>\n",
       "      <th>Classical</th>\n",
       "      <td>0.343991</td>\n",
       "      <td>0.285714</td>\n",
       "      <td>0.312156</td>\n",
       "      <td>1092.00000</td>\n",
       "    </tr>\n",
       "    <tr>\n",
       "      <th>Electronic/Anime</th>\n",
       "      <td>0.363860</td>\n",
       "      <td>0.337289</td>\n",
       "      <td>0.350071</td>\n",
       "      <td>2191.00000</td>\n",
       "    </tr>\n",
       "    <tr>\n",
       "      <th>Jazz/Blues</th>\n",
       "      <td>0.295502</td>\n",
       "      <td>0.311337</td>\n",
       "      <td>0.303213</td>\n",
       "      <td>2258.00000</td>\n",
       "    </tr>\n",
       "    <tr>\n",
       "      <th>Rap/Hip-Hop</th>\n",
       "      <td>0.445963</td>\n",
       "      <td>0.468792</td>\n",
       "      <td>0.457093</td>\n",
       "      <td>2227.00000</td>\n",
       "    </tr>\n",
       "    <tr>\n",
       "      <th>Rock/Country</th>\n",
       "      <td>0.287159</td>\n",
       "      <td>0.278465</td>\n",
       "      <td>0.282745</td>\n",
       "      <td>2345.00000</td>\n",
       "    </tr>\n",
       "    <tr>\n",
       "      <th>accuracy</th>\n",
       "      <td>0.321990</td>\n",
       "      <td>0.321990</td>\n",
       "      <td>0.321990</td>\n",
       "      <td>0.32199</td>\n",
       "    </tr>\n",
       "    <tr>\n",
       "      <th>macro avg</th>\n",
       "      <td>0.311207</td>\n",
       "      <td>0.305514</td>\n",
       "      <td>0.307607</td>\n",
       "      <td>11255.00000</td>\n",
       "    </tr>\n",
       "    <tr>\n",
       "      <th>weighted avg</th>\n",
       "      <td>0.324832</td>\n",
       "      <td>0.321990</td>\n",
       "      <td>0.322862</td>\n",
       "      <td>11255.00000</td>\n",
       "    </tr>\n",
       "  </tbody>\n",
       "</table>\n",
       "</div>"
      ],
      "text/plain": [
       "                  precision    recall  f1-score      support\n",
       "Alternative        0.130763  0.151489  0.140365   1142.00000\n",
       "Classical          0.343991  0.285714  0.312156   1092.00000\n",
       "Electronic/Anime   0.363860  0.337289  0.350071   2191.00000\n",
       "Jazz/Blues         0.295502  0.311337  0.303213   2258.00000\n",
       "Rap/Hip-Hop        0.445963  0.468792  0.457093   2227.00000\n",
       "Rock/Country       0.287159  0.278465  0.282745   2345.00000\n",
       "accuracy           0.321990  0.321990  0.321990      0.32199\n",
       "macro avg          0.311207  0.305514  0.307607  11255.00000\n",
       "weighted avg       0.324832  0.321990  0.322862  11255.00000"
      ]
     },
     "execution_count": 184,
     "metadata": {},
     "output_type": "execute_result"
    }
   ],
   "source": [
    "#classification report for knn\n",
    "knn_report = classification_report(y_test, knn_predictions, output_dict=True)\n",
    "df_report = pd.DataFrame(knn_report).transpose()\n",
    "df_report"
   ]
  },
  {
   "cell_type": "code",
   "execution_count": 245,
   "metadata": {},
   "outputs": [
    {
     "data": {
      "image/png": "[encoded data removed]",
      "text/plain": [
       "<Figure size 720x360 with 2 Axes>"
      ]
     },
     "metadata": {
      "needs_background": "light"
     },
     "output_type": "display_data"
    }
   ],
   "source": [
    "#confusion metrix for knn\n",
    "plt.figure(figsize = (10, 5))\n",
    "sns.heatmap(confusion_matrix(y_test, knn_predictions),\n",
    "    annot = True,\n",
    "    fmt = \".0f\",\n",
    "    linewidths = 1,\n",
    "    linecolor = \"red\",\n",
    "    xticklabels = knn.classes_,\n",
    "    yticklabels = knn.classes_)\n",
    "plt.xlabel(\"Actual values\")\n",
    "plt.ylabel(\"Predicted values\")\n",
    "plt.tight_layout()\n",
    "plt.show()"
   ]
  },
  {
   "cell_type": "markdown",
   "metadata": {},
   "source": [
    "### Logistic Regression"
   ]
  },
  {
   "cell_type": "code",
   "execution_count": 266,
   "metadata": {},
   "outputs": [
    {
     "ename": "NameError",
     "evalue": "name 'logreg_predictions' is not defined",
     "output_type": "error",
     "traceback": [
      "\u001b[1;31m---------------------------------------------------------------------------\u001b[0m",
      "\u001b[1;31mNameError\u001b[0m                                 Traceback (most recent call last)",
      "Input \u001b[1;32mIn [266]\u001b[0m, in \u001b[0;36m<cell line: 2>\u001b[1;34m()\u001b[0m\n\u001b[0;32m      1\u001b[0m \u001b[38;5;66;03m#accuracy score on test data for logistic regression\u001b[39;00m\n\u001b[1;32m----> 2\u001b[0m logreg_acc \u001b[38;5;241m=\u001b[39m accuracy_score(y_test, \u001b[43mlogreg_predictions\u001b[49m)\n\u001b[0;32m      3\u001b[0m \u001b[38;5;28mprint\u001b[39m(\u001b[38;5;124mf\u001b[39m\u001b[38;5;124m'\u001b[39m\u001b[38;5;124mlog_reg_accuracy: \u001b[39m\u001b[38;5;132;01m{\u001b[39;00mlogreg_acc\u001b[38;5;241m*\u001b[39m\u001b[38;5;241m100\u001b[39m\u001b[38;5;132;01m:\u001b[39;00m\u001b[38;5;124m.2f\u001b[39m\u001b[38;5;132;01m}\u001b[39;00m\u001b[38;5;124m%\u001b[39m\u001b[38;5;124m'\u001b[39m)\n",
      "\u001b[1;31mNameError\u001b[0m: name 'logreg_predictions' is not defined"
     ]
    }
   ],
   "source": [
    "#accuracy score on test data for logistic regression\n",
    "logreg_acc = accuracy_score(y_test, logreg_predictions)\n",
    "print(f'log_reg_accuracy: {logreg_acc*100:.2f}%')"
   ]
  },
  {
   "cell_type": "code",
   "execution_count": 252,
   "metadata": {},
   "outputs": [
    {
     "name": "stderr",
     "output_type": "stream",
     "text": [
      "C:\\Users\\danji\\anaconda3\\lib\\site-packages\\sklearn\\metrics\\_classification.py:1318: UndefinedMetricWarning: Precision and F-score are ill-defined and being set to 0.0 in labels with no predicted samples. Use `zero_division` parameter to control this behavior.\n",
      "  _warn_prf(average, modifier, msg_start, len(result))\n",
      "C:\\Users\\danji\\anaconda3\\lib\\site-packages\\sklearn\\metrics\\_classification.py:1318: UndefinedMetricWarning: Precision and F-score are ill-defined and being set to 0.0 in labels with no predicted samples. Use `zero_division` parameter to control this behavior.\n",
      "  _warn_prf(average, modifier, msg_start, len(result))\n",
      "C:\\Users\\danji\\anaconda3\\lib\\site-packages\\sklearn\\metrics\\_classification.py:1318: UndefinedMetricWarning: Precision and F-score are ill-defined and being set to 0.0 in labels with no predicted samples. Use `zero_division` parameter to control this behavior.\n",
      "  _warn_prf(average, modifier, msg_start, len(result))\n"
     ]
    },
    {
     "data": {
      "text/html": [
       "<div>\n",
       "<style scoped>\n",
       "    .dataframe tbody tr th:only-of-type {\n",
       "        vertical-align: middle;\n",
       "    }\n",
       "\n",
       "    .dataframe tbody tr th {\n",
       "        vertical-align: top;\n",
       "    }\n",
       "\n",
       "    .dataframe thead th {\n",
       "        text-align: right;\n",
       "    }\n",
       "</style>\n",
       "<table border=\"1\" class=\"dataframe\">\n",
       "  <thead>\n",
       "    <tr style=\"text-align: right;\">\n",
       "      <th></th>\n",
       "      <th>precision</th>\n",
       "      <th>recall</th>\n",
       "      <th>f1-score</th>\n",
       "      <th>support</th>\n",
       "    </tr>\n",
       "  </thead>\n",
       "  <tbody>\n",
       "    <tr>\n",
       "      <th>Alternative</th>\n",
       "      <td>0.000000</td>\n",
       "      <td>0.000000</td>\n",
       "      <td>0.000000</td>\n",
       "      <td>1142.000000</td>\n",
       "    </tr>\n",
       "    <tr>\n",
       "      <th>Classical</th>\n",
       "      <td>0.793173</td>\n",
       "      <td>0.361722</td>\n",
       "      <td>0.496855</td>\n",
       "      <td>1092.000000</td>\n",
       "    </tr>\n",
       "    <tr>\n",
       "      <th>Electronic/Anime</th>\n",
       "      <td>0.476642</td>\n",
       "      <td>0.596075</td>\n",
       "      <td>0.529710</td>\n",
       "      <td>2191.000000</td>\n",
       "    </tr>\n",
       "    <tr>\n",
       "      <th>Jazz/Blues</th>\n",
       "      <td>0.389552</td>\n",
       "      <td>0.346767</td>\n",
       "      <td>0.366917</td>\n",
       "      <td>2258.000000</td>\n",
       "    </tr>\n",
       "    <tr>\n",
       "      <th>Rap/Hip-Hop</th>\n",
       "      <td>0.422825</td>\n",
       "      <td>0.608891</td>\n",
       "      <td>0.499080</td>\n",
       "      <td>2227.000000</td>\n",
       "    </tr>\n",
       "    <tr>\n",
       "      <th>Rock/Country</th>\n",
       "      <td>0.295714</td>\n",
       "      <td>0.353092</td>\n",
       "      <td>0.321866</td>\n",
       "      <td>2345.000000</td>\n",
       "    </tr>\n",
       "    <tr>\n",
       "      <th>accuracy</th>\n",
       "      <td>0.414749</td>\n",
       "      <td>0.414749</td>\n",
       "      <td>0.414749</td>\n",
       "      <td>0.414749</td>\n",
       "    </tr>\n",
       "    <tr>\n",
       "      <th>macro avg</th>\n",
       "      <td>0.396318</td>\n",
       "      <td>0.377758</td>\n",
       "      <td>0.369071</td>\n",
       "      <td>11255.000000</td>\n",
       "    </tr>\n",
       "    <tr>\n",
       "      <th>weighted avg</th>\n",
       "      <td>0.393173</td>\n",
       "      <td>0.414749</td>\n",
       "      <td>0.390749</td>\n",
       "      <td>11255.000000</td>\n",
       "    </tr>\n",
       "  </tbody>\n",
       "</table>\n",
       "</div>"
      ],
      "text/plain": [
       "                  precision    recall  f1-score       support\n",
       "Alternative        0.000000  0.000000  0.000000   1142.000000\n",
       "Classical          0.793173  0.361722  0.496855   1092.000000\n",
       "Electronic/Anime   0.476642  0.596075  0.529710   2191.000000\n",
       "Jazz/Blues         0.389552  0.346767  0.366917   2258.000000\n",
       "Rap/Hip-Hop        0.422825  0.608891  0.499080   2227.000000\n",
       "Rock/Country       0.295714  0.353092  0.321866   2345.000000\n",
       "accuracy           0.414749  0.414749  0.414749      0.414749\n",
       "macro avg          0.396318  0.377758  0.369071  11255.000000\n",
       "weighted avg       0.393173  0.414749  0.390749  11255.000000"
      ]
     },
     "execution_count": 252,
     "metadata": {},
     "output_type": "execute_result"
    }
   ],
   "source": [
    "#classification report for logistic regression\n",
    "logreg_report = classification_report(y_test, logreg_predictions, output_dict=True)\n",
    "df_report = pd.DataFrame(logreg_report).transpose()\n",
    "df_report"
   ]
  },
  {
   "cell_type": "code",
   "execution_count": 256,
   "metadata": {},
   "outputs": [
    {
     "ename": "NameError",
     "evalue": "name 'logreg_predictions' is not defined",
     "output_type": "error",
     "traceback": [
      "\u001b[1;31m---------------------------------------------------------------------------\u001b[0m",
      "\u001b[1;31mNameError\u001b[0m                                 Traceback (most recent call last)",
      "Input \u001b[1;32mIn [256]\u001b[0m, in \u001b[0;36m<cell line: 3>\u001b[1;34m()\u001b[0m\n\u001b[0;32m      1\u001b[0m \u001b[38;5;66;03m#confusion metrix for knn\u001b[39;00m\n\u001b[0;32m      2\u001b[0m plt\u001b[38;5;241m.\u001b[39mfigure(figsize \u001b[38;5;241m=\u001b[39m (\u001b[38;5;241m10\u001b[39m, \u001b[38;5;241m5\u001b[39m))\n\u001b[1;32m----> 3\u001b[0m sns\u001b[38;5;241m.\u001b[39mheatmap(confusion_matrix(y_test, \u001b[43mlogreg_predictions\u001b[49m),\n\u001b[0;32m      4\u001b[0m     annot \u001b[38;5;241m=\u001b[39m \u001b[38;5;28;01mTrue\u001b[39;00m,\n\u001b[0;32m      5\u001b[0m     fmt \u001b[38;5;241m=\u001b[39m \u001b[38;5;124m\"\u001b[39m\u001b[38;5;124m.0f\u001b[39m\u001b[38;5;124m\"\u001b[39m,\n\u001b[0;32m      6\u001b[0m     linewidths \u001b[38;5;241m=\u001b[39m \u001b[38;5;241m1\u001b[39m,\n\u001b[0;32m      7\u001b[0m     linecolor \u001b[38;5;241m=\u001b[39m \u001b[38;5;124m\"\u001b[39m\u001b[38;5;124mred\u001b[39m\u001b[38;5;124m\"\u001b[39m,\n\u001b[0;32m      8\u001b[0m     xticklabels \u001b[38;5;241m=\u001b[39m logreg_cv\u001b[38;5;241m.\u001b[39mclasses_,\n\u001b[0;32m      9\u001b[0m     yticklabels \u001b[38;5;241m=\u001b[39m logreg_cv\u001b[38;5;241m.\u001b[39mclasses_)\n\u001b[0;32m     10\u001b[0m plt\u001b[38;5;241m.\u001b[39mxlabel(\u001b[38;5;124m\"\u001b[39m\u001b[38;5;124mActual values\u001b[39m\u001b[38;5;124m\"\u001b[39m)\n\u001b[0;32m     11\u001b[0m plt\u001b[38;5;241m.\u001b[39mylabel(\u001b[38;5;124m\"\u001b[39m\u001b[38;5;124mPredicted values\u001b[39m\u001b[38;5;124m\"\u001b[39m)\n",
      "\u001b[1;31mNameError\u001b[0m: name 'logreg_predictions' is not defined"
     ]
    },
    {
     "data": {
      "text/plain": [
       "<Figure size 720x360 with 0 Axes>"
      ]
     },
     "metadata": {},
     "output_type": "display_data"
    }
   ],
   "source": [
    "#confusion metrix for knn\n",
    "plt.figure(figsize = (10, 5))\n",
    "sns.heatmap(confusion_matrix(y_test, logreg_predictions),\n",
    "    annot = True,\n",
    "    fmt = \".0f\",\n",
    "    linewidths = 1,\n",
    "    linecolor = \"red\",\n",
    "    xticklabels = logreg_cv.classes_,\n",
    "    yticklabels = logreg_cv.classes_)\n",
    "plt.xlabel(\"Actual values\")\n",
    "plt.ylabel(\"Predicted values\")\n",
    "plt.tight_layout()\n",
    "plt.show()"
   ]
  },
  {
   "cell_type": "markdown",
   "metadata": {},
   "source": [
    "### Závěr\n",
    "\n",
    "Na dataset pro klasifikaci hudebních žánrů jsem aplikovali tři různé modely - Random Forest, KNN a Logistickou regresi. Modelem s nejhorším výsledkem se stal KNN s úspěšností pouze 32,20 %. Naopak nejlepším modelem byl Random Forest s počtem estimátorů 750, maximální hloubkou stromu 15 a funkcí pro měření kvality rozdělení \"entropy\". Dosáhl úspěšnosti na testovacích datech 72,49 %.\n",
    "\n",
    "Celkově si všechny modely nevedly příliš dobře. Problém by mohl být v počtu tříd (žánrů), do kterých je skladba zařazována. I přes redukci počtu tříd zhruba o polovinu je 6 štítků pořád docela hodně. Dále by mohla také ke špatným výsledkům přispívat povaha datasetu, protože i když skladby spadají do jednoho žánru, jejich vlastnosti nemusí nutně odpovídat nějakým daným pravidlům tohoto žánru."
   ]
  }
 ],
 "metadata": {
  "kernelspec": {
   "display_name": "Python 3 (ipykernel)",
   "language": "python",
   "name": "python3"
  },
  "language_info": {
   "codemirror_mode": {
    "name": "ipython",
    "version": 3
   },
   "file_extension": ".py",
   "mimetype": "text/x-python",
   "name": "python",
   "nbconvert_exporter": "python",
   "pygments_lexer": "ipython3",
   "version": "3.9.12"
  }
 },
 "nbformat": 4,
 "nbformat_minor": 1
}
